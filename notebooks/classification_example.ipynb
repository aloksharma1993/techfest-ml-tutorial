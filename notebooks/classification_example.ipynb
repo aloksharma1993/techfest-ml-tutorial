{
 "cells": [
  {
   "cell_type": "markdown",
   "metadata": {},
   "source": [
    "#Classification\n",
    "\n",
    "In this tutorial, we will be working with **supervised learning** - learning a model from data with known outcomes. **Classification** is a form of supervised learning where the outcome is a discrete *class*. For example, if we wanted to build a spam detector for our email inbox, messages may be classified as *email* or *spam*. If we were building a model to recognize handwritten digits (for example to read checks at an ATM), the outcome would be one of 10 possible classes, one for each digit (0-9).\n",
    "\n",
    "Similarly, in a hospital, we may want to predict whether an Intensive Care Unit (ICU) patient will live or die. The [2012 PhysioNet/Computing in Cardiology challenge](http://physionet.org/challenge/2012/) provides a dataset of ICU stays longer than 48 hours and whether or not the patient died in the hospital. We can use this dataset to train a classifier that, based on the patient record, predicts if the patient will survive."
   ]
  },
  {
   "cell_type": "markdown",
   "metadata": {},
   "source": [
    "## Loading the Data\n",
    "\n",
    "The raw dataset can be found on the challenge website linked above. However, for this tutorial, we did some preprocessing for you so that we can focus on the machine learning part. If you want to know more about what we did, see the [Data Preparation](#Data-Preparation) section at the bottom of the tutorial.\n",
    "\n",
    "We provide a [training set](https://raw.githubusercontent.com/lydiagu/ml-tutorial/master/physionet/train-a.csv) and a [test set](https://raw.githubusercontent.com/lydiagu/ml-tutorial/master/physionet/test-a.csv). Recall that a training set is used for training a model and a test set is used for evaluating the model performance on unseen data. The files are stored as .csv, with a header labeling the columns. Let's load the training set by using the `requests` library to download the file. `requests` is an easy-to-use library for making HTTP requests."
   ]
  },
  {
   "cell_type": "code",
   "execution_count": 1,
   "metadata": {
    "collapsed": false,
    "scrolled": true
   },
   "outputs": [],
   "source": [
    "import requests\n",
    "response = requests.get('https://raw.githubusercontent.com/lydiagu/ml-tutorial/master/physionet/train-a.csv')\n",
    "raw_data = response.content  # Read the .csv content from the response."
   ]
  },
  {
   "cell_type": "markdown",
   "metadata": {},
   "source": [
    "Python's [`csv`](https://docs.python.org/2/library/csv.html) library has a `reader` object that will parse the .csv file. You can create a `reader` object by calling `csv.reader()` and passing in a file as the argument. Because `csv.reader()` expects a file-like object as the argument, we wrap the downloaded data string in a [`StringIO`](https://docs.python.org/2/library/stringio.html) object, which allows you to read the string like a file."
   ]
  },
  {
   "cell_type": "code",
   "execution_count": 2,
   "metadata": {
    "collapsed": false
   },
   "outputs": [],
   "source": [
    "import csv\n",
    "import StringIO\n",
    "\n",
    "f = StringIO.StringIO(raw_data)\n",
    "reader = csv.reader(f)\n",
    "\n",
    "# The first row in the file is the header of column names.\n",
    "csv_header = reader.next()\n",
    "\n",
    "# Iterate over remaining rows to get the data.\n",
    "data = []\n",
    "for row in reader:\n",
    "    row = [float(r) for r in row]  # Convert all values to floats.\n",
    "    data.append(row)"
   ]
  },
  {
   "cell_type": "markdown",
   "metadata": {},
   "source": [
    "What's in our dataset? Let's print the .csv header to see the column names."
   ]
  },
  {
   "cell_type": "code",
   "execution_count": 3,
   "metadata": {
    "collapsed": false
   },
   "outputs": [
    {
     "name": "stdout",
     "output_type": "stream",
     "text": [
      "['ALP_diff', 'ALP_first', 'ALP_last', 'ALP_max', 'ALP_mean', 'ALP_min', 'ALT_diff', 'ALT_first', 'ALT_last', 'ALT_max', 'ALT_mean', 'ALT_min', 'AST_diff', 'AST_first', 'AST_last', 'AST_max', 'AST_mean', 'AST_min', 'Age', 'Albumin_diff', 'Albumin_first', 'Albumin_last', 'Albumin_max', 'Albumin_mean', 'Albumin_min', 'BUN_diff', 'BUN_first', 'BUN_last', 'BUN_max', 'BUN_mean', 'BUN_min', 'Bilirubin_diff', 'Bilirubin_first', 'Bilirubin_last', 'Bilirubin_max', 'Bilirubin_mean', 'Bilirubin_min', 'Cholesterol_diff', 'Cholesterol_first', 'Cholesterol_last', 'Cholesterol_max', 'Cholesterol_mean', 'Cholesterol_min', 'Creatinine_diff', 'Creatinine_first', 'Creatinine_last', 'Creatinine_max', 'Creatinine_mean', 'Creatinine_min', 'DiasABP_diff', 'DiasABP_first', 'DiasABP_last', 'DiasABP_max', 'DiasABP_mean', 'DiasABP_min', 'FiO2_diff', 'FiO2_first', 'FiO2_last', 'FiO2_max', 'FiO2_mean', 'FiO2_min', 'GCS_diff', 'GCS_first', 'GCS_last', 'GCS_max', 'GCS_mean', 'GCS_min', 'Gender', 'Glucose_diff', 'Glucose_first', 'Glucose_last', 'Glucose_max', 'Glucose_mean', 'Glucose_min', 'HCO3_diff', 'HCO3_first', 'HCO3_last', 'HCO3_max', 'HCO3_mean', 'HCO3_min', 'HCT_diff', 'HCT_first', 'HCT_last', 'HCT_max', 'HCT_mean', 'HCT_min', 'HR_diff', 'HR_first', 'HR_last', 'HR_max', 'HR_mean', 'HR_min', 'Height', 'ICUType', 'K_diff', 'K_first', 'K_last', 'K_max', 'K_mean', 'K_min', 'Lactate_diff', 'Lactate_first', 'Lactate_last', 'Lactate_max', 'Lactate_mean', 'Lactate_min', 'MAP_diff', 'MAP_first', 'MAP_last', 'MAP_max', 'MAP_mean', 'MAP_min', 'MechVent_diff', 'MechVent_first', 'MechVent_last', 'MechVent_max', 'MechVent_mean', 'MechVent_min', 'Mg_diff', 'Mg_first', 'Mg_last', 'Mg_max', 'Mg_mean', 'Mg_min', 'NIDiasABP_diff', 'NIDiasABP_first', 'NIDiasABP_last', 'NIDiasABP_max', 'NIDiasABP_mean', 'NIDiasABP_min', 'NIMAP_diff', 'NIMAP_first', 'NIMAP_last', 'NIMAP_max', 'NIMAP_mean', 'NIMAP_min', 'NISysABP_diff', 'NISysABP_first', 'NISysABP_last', 'NISysABP_max', 'NISysABP_mean', 'NISysABP_min', 'Na_diff', 'Na_first', 'Na_last', 'Na_max', 'Na_mean', 'Na_min', 'PaCO2_diff', 'PaCO2_first', 'PaCO2_last', 'PaCO2_max', 'PaCO2_mean', 'PaCO2_min', 'PaO2_diff', 'PaO2_first', 'PaO2_last', 'PaO2_max', 'PaO2_mean', 'PaO2_min', 'Platelets_diff', 'Platelets_first', 'Platelets_last', 'Platelets_max', 'Platelets_mean', 'Platelets_min', 'RespRate_diff', 'RespRate_first', 'RespRate_last', 'RespRate_max', 'RespRate_mean', 'RespRate_min', 'SaO2_diff', 'SaO2_first', 'SaO2_last', 'SaO2_max', 'SaO2_mean', 'SaO2_min', 'SysABP_diff', 'SysABP_first', 'SysABP_last', 'SysABP_max', 'SysABP_mean', 'SysABP_min', 'Temp_diff', 'Temp_first', 'Temp_last', 'Temp_max', 'Temp_mean', 'Temp_min', 'TroponinI_diff', 'TroponinI_first', 'TroponinI_last', 'TroponinI_max', 'TroponinI_mean', 'TroponinI_min', 'TroponinT_diff', 'TroponinT_first', 'TroponinT_last', 'TroponinT_max', 'TroponinT_mean', 'TroponinT_min', 'Urine_diff', 'Urine_first', 'Urine_last', 'Urine_max', 'Urine_mean', 'Urine_min', 'WBC_diff', 'WBC_first', 'WBC_last', 'WBC_max', 'WBC_mean', 'WBC_min', 'Weight_diff', 'Weight_first', 'Weight_last', 'Weight_max', 'Weight_mean', 'Weight_min', 'pH_diff', 'pH_first', 'pH_last', 'pH_max', 'pH_mean', 'pH_min', 'In-hospital_death']\n"
     ]
    }
   ],
   "source": [
    "print csv_header"
   ]
  },
  {
   "cell_type": "markdown",
   "metadata": {},
   "source": [
    "Whoa, that's a lot of columns! Let's take a closer look. We refer to the input data as **features** and the output data (in-hospital death) as **labels**. The dataset has two kinds of features:\n",
    "  - **static features** that are measured at the begining of the ICU stay and don't change over time: age, gender, height, ICUType\n",
    "  - **time-varying features** that are measured and recorded at a specific point in time, and may be measured 0 or more times during the ICU stay: Weight, Glucose, etc.\n",
    "\n",
    "To have a uniform way of representing 0 or more records for each time-varying feature, we computed the min, max, mean, first value, last value and difference between first and last values for each. That's why there are so many features! The medical measurements themselves are explained in more detail on the [Physionet website](http://physionet.org/challenge/2012/).\n",
    "\n",
    "For time-varying features that were not recorded for a patient, the computed statistics have value -1. Similarly, static features that were not recorded are also represented by -1. -1 is a useful number for representing a missing value because all of the valid, non-missing values are nonnegative. \n",
    "\n",
    "The last field in the .csv file is the label: `In-hospital_death`. 1 means the patient died in the hospital. 0 means the patient survived.\n",
    "\n",
    "Let's separate the features from the label and store them in [`numpy`](http://docs.scipy.org/doc/numpy/user/index.html) arrays. `numpy` is a Python library useful for scientific computing, and it defines array objects for storing scientific data, as well as many mathematical functions. [`scikit-learn`](http://scikit-learn.org/stable/), the Python machine learning library we'll be using in this tutorial, is designed to work well with data in `numpy` arrays."
   ]
  },
  {
   "cell_type": "code",
   "execution_count": 4,
   "metadata": {
    "collapsed": false
   },
   "outputs": [],
   "source": [
    "import numpy\n",
    "\n",
    "# Python Tip:\n",
    "# In Python lists, an index of -1 represents the last value in the list. Python\n",
    "# list ranges do not include the interval end. So a range of [0:-1] does not\n",
    "# include the last value in the list.\n",
    "\n",
    "X = numpy.array([f[0:-1] for f in data])  # Features represented by `X`.\n",
    "y = numpy.array([f[-1] for f in data])  # Labels represented by `y`."
   ]
  },
  {
   "cell_type": "markdown",
   "metadata": {},
   "source": [
    "## Understanding the Data\n",
    "\n",
    "Now that we've loaded the data and looked at what features are in our dataset, let's dig into the data. A good place to start is by measuring the proportion of positive outcomes. The proportion of positive outcomes is just the mean of the labels, since we conveniently represented the labels as either 0 or 1. Since we put our data into numpy arrays, we can take advantage of some [very useful methods on arrays](http://docs.scipy.org/doc/numpy/reference/arrays.ndarray.html)."
   ]
  },
  {
   "cell_type": "code",
   "execution_count": 5,
   "metadata": {
    "collapsed": false
   },
   "outputs": [
    {
     "name": "stdout",
     "output_type": "stream",
     "text": [
      "0.145625\n"
     ]
    }
   ],
   "source": [
    "print y.mean()"
   ]
  },
  {
   "cell_type": "markdown",
   "metadata": {},
   "source": [
    "The proportion is fairly low (as would hopefully be expected with modern medicine!).\n",
    "\n",
    "Let's use a visualization library called [matplotlib](http://matplotlib.org/api/) to visualize some of the features. First, we'll look at one feature and plot the histogram to get an idea of the distribution of the values. `matplotlib` has a specific function [`hist()`](http://matplotlib.org/api/pyplot_api.html#matplotlib.pyplot.hist) for computing and plotting histograms.\n",
    "\n",
    "The following line enables IPython Notebook's matplotlib mode:"
   ]
  },
  {
   "cell_type": "code",
   "execution_count": 6,
   "metadata": {
    "collapsed": true
   },
   "outputs": [],
   "source": [
    "%matplotlib inline"
   ]
  },
  {
   "cell_type": "code",
   "execution_count": 7,
   "metadata": {
    "collapsed": false
   },
   "outputs": [
    {
     "data": {
      "image/png": "[encoded data removed]",
      "text/plain": [
       "<matplotlib.figure.Figure at 0x7f1dbca42a10>"
      ]
     },
     "metadata": {},
     "output_type": "display_data"
    }
   ],
   "source": [
    "import matplotlib.pyplot as plt\n",
    "\n",
    "# Exercise 1: You can replace 'Age' with another feature name to plot a\n",
    "# different feature.\n",
    "age_idx = csv_header.index('Age')  # Get the index of the 'Age' column.\n",
    "ages = X[:, age_idx]  # Extract the 'Age' column from the array of features.\n",
    "\n",
    "# hist() takes an array of numbers and computes and plots the histogram.\n",
    "# You can pass in keyword arguments like bins (the number of bins) and\n",
    "# range (the range of values the bins cover).\n",
    "n, bins, patches = plt.hist(ages, bins=10, range=(0,100))\n",
    "plt.show()"
   ]
  },
  {
   "cell_type": "markdown",
   "metadata": {},
   "source": [
    "As would be expected, the histogram peaks at an older age (75).\n",
    "\n",
    "___\n",
    "**Exercise 1:** Can you plot the histogram of another feature? For example, Weight_mean or GCS_mean. Hint: if you remove the `bins` and `range` keyword arguments to `plt.hist`, it automatically finds a reasonable set of bins for your data.\n",
    "___"
   ]
  },
  {
   "cell_type": "markdown",
   "metadata": {},
   "source": [
    "## Building a Model\n",
    "\n",
    "`Scikit-learn` uses a common API for all of their machine learning models, which makes it really easy to try different models. Let's start with a simple [logistic regression](http://scikit-learn.org/stable/modules/generated/sklearn.linear_model.LogisticRegression.html).\n",
    "\n",
    "**NOTE:** A logistic regression model is *not* used for regression -- it is used for *classification*. Confusing! It's naming comes from the fact that it uses a linear model (similar to linear regression) to map the inputs to outputs. However, it then passes the output through a function (the logit function) which scales the value to be between 0 and 1, and increases the steepness of the curve around the midpoint - the image below plots the logit function. We can then pick a threshold value (for example, 0.5), below which the point is classified as one class, and above which it is classified as the other class. This is how the model is used for classification.\n",
    "\n",
    "<img src=\"http://upload.wikimedia.org/wikipedia/commons/8/88/Logistic-curve.svg\" width=\"30%\" height=\"30%\"></img>\n",
    "\n",
    "First, we'll split the dataset into a train and test set, with 80% used for training."
   ]
  },
  {
   "cell_type": "code",
   "execution_count": 8,
   "metadata": {
    "collapsed": false
   },
   "outputs": [
    {
     "name": "stdout",
     "output_type": "stream",
     "text": [
      "# in training set: 2560\n"
     ]
    }
   ],
   "source": [
    "TRAIN_SIZE = int(0.8 * len(X))\n",
    "print '# in training set:', TRAIN_SIZE\n",
    "X_train = X[:TRAIN_SIZE]\n",
    "y_train = y[:TRAIN_SIZE]\n",
    "X_test = X[TRAIN_SIZE:]\n",
    "y_test = y[TRAIN_SIZE:]"
   ]
  },
  {
   "cell_type": "markdown",
   "metadata": {},
   "source": [
    "Because logistic regression is based on a linear model, it won't handle missing values represented by -1 very well. Scikit-learn has an [`Imputer`](http://scikit-learn.org/stable/modules/generated/sklearn.preprocessing.Imputer.html) class that provides basic strategies for filling in, or *imputing*, missing values. Let's use the strategy of using the mean of the known values to replace the missing values."
   ]
  },
  {
   "cell_type": "code",
   "execution_count": 9,
   "metadata": {
    "collapsed": true
   },
   "outputs": [],
   "source": [
    "from sklearn.preprocessing import Imputer\n",
    "# Initialize the Imputer class with stragegy 'mean'.\n",
    "imp = Imputer(missing_values=-1, strategy='mean')\n",
    "# fit_transform() fits the imputer on the data and applies the imputing\n",
    "# transform.\n",
    "X_train_imputed = imp.fit_transform(X_train)"
   ]
  },
  {
   "cell_type": "markdown",
   "metadata": {},
   "source": [
    "Linear models are also sensitive to different ranges for input features. For example, if one input feature has a range of -1 to 1 and another has a range of 0 to 100, the feature with the larger range will disproportionately influence the model. To combat this, we scale all the features to **zero mean and unit variance**, using scikit-learn's [`StandardScaler`](http://scikit-learn.org/stable/modules/generated/sklearn.preprocessing.StandardScaler.html) class.\n",
    "\n",
    "Note: We filled in missing values before scaling, otherwise the number used to represent missing values would distort the scaling."
   ]
  },
  {
   "cell_type": "code",
   "execution_count": 10,
   "metadata": {
    "collapsed": false
   },
   "outputs": [],
   "source": [
    "from sklearn.preprocessing import StandardScaler\n",
    "scaler = StandardScaler()  # Initialize the scaler class.\n",
    "# fit_transform() fits the scaler to the data and applies the transform.\n",
    "X_train_scaled = scaler.fit_transform(X_train_imputed)"
   ]
  },
  {
   "cell_type": "markdown",
   "metadata": {},
   "source": [
    "Ok, now we're ready to train the model. Scikit-learn's models all have a `fit()` function to fit the model to the training data and a `predict()` function to predict outcomes on new input data."
   ]
  },
  {
   "cell_type": "code",
   "execution_count": 11,
   "metadata": {
    "collapsed": false
   },
   "outputs": [
    {
     "data": {
      "text/plain": [
       "LogisticRegression(C=1.0, class_weight=None, dual=False, fit_intercept=True,\n",
       "          intercept_scaling=1, max_iter=100, multi_class='ovr',\n",
       "          penalty='l2', random_state=None, solver='liblinear', tol=0.0001,\n",
       "          verbose=0)"
      ]
     },
     "execution_count": 11,
     "metadata": {},
     "output_type": "execute_result"
    }
   ],
   "source": [
    "from sklearn import linear_model\n",
    "model = linear_model.LogisticRegression()\n",
    "# Train the model with the training data.\n",
    "model.fit(X_train_scaled, y_train)"
   ]
  },
  {
   "cell_type": "markdown",
   "metadata": {},
   "source": [
    "## Evaluating a Model\n",
    "Now that we have a model, how do we tell how good it is? Since we have labelled outcomes to compare predictions to, we can quantitatively measure how well the model is doing. This is where we use the test set. Because we only used the training set to develop the model, we can use the test set to see how well the model works on unseen data. With classification, each outcome is either predicted correctly or not, so the measure of success is binary.\n",
    "\n",
    "Models in scikit-learn usually have a `score()` method, which takes in a set of features and their labels. For logistic regression, this method returns the **accuracy** of the model on the input data. Accuracy is the number of outcomes correctly predicted divided by the total number of outcomes."
   ]
  },
  {
   "cell_type": "code",
   "execution_count": 12,
   "metadata": {
    "collapsed": false
   },
   "outputs": [
    {
     "name": "stdout",
     "output_type": "stream",
     "text": [
      "0.85625\n"
     ]
    }
   ],
   "source": [
    "X_test_scaled = scaler.transform(imp.transform(X_test))\n",
    "print model.score(X_test_scaled, y_test)\n",
    "# Exercise 2: call model.score() on the training set."
   ]
  },
  {
   "cell_type": "markdown",
   "metadata": {},
   "source": [
    "___\n",
    "**Exercise 2:** How does the accuracy on the test set compare to the accuracy on the training set? Can you compute the accuracy on the training set?\n",
    "___"
   ]
  },
  {
   "cell_type": "markdown",
   "metadata": {},
   "source": [
    "Remember from before that the proportion of positive outcomes is fairly low (~14%). This means that accuracy is not necessarily a very useful metric of model performance. A model which predicts survival for each patient (the negative outcome) would still be ~86% accurate!\n",
    "\n",
    "Thankfully, there are other metrics for model performance. Before we go into these metrics, let's define a few terms. In binary classification, there is a **positive** outcome and a **negative** outcome. Typically, the positive outcome is the case you'd like to detect (ex. detecting a malignant tumor, or spam email), and the negative outcome is the more normal, generally expected outcome (ex. not a tumor, or is email). In our example, the positive outcome is an in-hospital death. The prediction results can be one of the following:\n",
    "* **true positive**: a correctly predicted positive outcome\n",
    "* ** false positive**: a negative outcome incorrectly predicted as positive\n",
    "* ** true negative**: a correctly predicted negative outcome\n",
    "* ** false negative**: a positive outcome incorrectly predicted as negative\n",
    "\n",
    "Let's now apply these terms to other metrics for model performance:\n",
    "* **recall**, also known as **sensitivity** or **true positive rate**: of the positive outcomes (in-hospital death), how many did we predict correctly. This is the number of true positives over the total number of positives.\n",
    "* **precision**, also known as **positive predictivity**: of the outcomes predicted as positive, what fraction was correct. This is the number of true positives over the total number of predicted positives.\n",
    "\n",
    "One method of visualizing these metrics is to plot the precision-recall curve. Recall from the logistic regression description above that we set a *threshold* for classifying an outcome as positive or negative. Most models output a prediction *probability* for each data point so you can manually adjust the threshold. For example, if we set the threshold to 0, all outcomes will be predicted as positive. This gives 100% recall and a precision of 14.5% (the proportion of true positives).\n",
    "\n",
    "In the code below, we use scikit-learn's [`precision_recall_curve()`](http://scikit-learn.org/stable/modules/generated/sklearn.metrics.precision_recall_curve.html) to compute the precision recall curve. The function adjusts the threshold and computes the precision/recall at each threshold value. This curve allows you to pick the right precision/recall for your application. For example, in a cancer screening test, you may want very high recall, but are ok with low precision because patients will receive follow-up tests."
   ]
  },
  {
   "cell_type": "code",
   "execution_count": 13,
   "metadata": {
    "collapsed": false
   },
   "outputs": [
    {
     "data": {
      "image/png": "[encoded data removed]",
      "text/plain": [
       "<matplotlib.figure.Figure at 0x7f1db1d6c0d0>"
      ]
     },
     "metadata": {},
     "output_type": "display_data"
    }
   ],
   "source": [
    "from sklearn.metrics import precision_recall_curve\n",
    "import matplotlib.pyplot as plt\n",
    "\n",
    "# predict_proba() returns probability estimates for each class as an\n",
    "# N x 2 array, where N is the number of data points and 2 is the number\n",
    "# of classes. The negative outcome is the first column, and the positive\n",
    "# outcome is the second column.\n",
    "predicted_probs = model.predict_proba(X_test_scaled)\n",
    "\n",
    "# We use the probability estimate for the positive outcome in\n",
    "# precision_recall_curve().\n",
    "precision, recall, thresholds = precision_recall_curve(\n",
    "    y_test, predicted_probs[:,1])\n",
    "\n",
    "# Plot precision and recall.\n",
    "plt.plot(precision, recall, 's-', lw=1)\n",
    "plt.xlim([-0.05, 1.05])\n",
    "plt.ylim([-0.05, 1.05])\n",
    "plt.xlabel('Precision')\n",
    "plt.ylabel('Recall')\n",
    "plt.show()"
   ]
  },
  {
   "cell_type": "markdown",
   "metadata": {},
   "source": [
    "___\n",
    "**Exercise 3:** If we want to predict at least 50% of all in-hospital deaths (recall), what is the minimum percentage of predicted deaths that will be wrong (precision)? What if we wanted a recall of 80%?\n",
    "___\n",
    "**Exercise 4:** If I had 1000 patients and set the threshold for 80% recall, how many in-hospital deaths will be incorrectly predicted (false positive)?\n",
    "___"
   ]
  },
  {
   "cell_type": "markdown",
   "metadata": {},
   "source": [
    "One measure of model performance (and the method used in the Physionet challenge) is the minimum of precision and recall. One would pick the point in the curve that maximizes this minimum."
   ]
  },
  {
   "cell_type": "code",
   "execution_count": 14,
   "metadata": {
    "collapsed": false
   },
   "outputs": [
    {
     "name": "stdout",
     "output_type": "stream",
     "text": [
      "Max min of Precision/Recall 0.505376344086\n"
     ]
    }
   ],
   "source": [
    "# Zip takes multiple lists [a1, a2, a3] and [b1, b2, b3] and returns a new list\n",
    "# with elements at the same index combined: [(a1, b1), (a2, b2), (a3, b3)]\n",
    "both = zip(precision, recall)\n",
    "print 'Max min of Precision/Recall', max([min(r) for r in both])"
   ]
  },
  {
   "cell_type": "markdown",
   "metadata": {},
   "source": [
    "___\n",
    "**Exercise 5:** Try using a [Random Forest Classifier](http://scikit-learn.org/stable/modules/generated/sklearn.ensemble.RandomForestClassifier.html) instead of a logistic regression model. Start with the default parameter settings. A random forest model averages the result of many decision trees trained on random subsets of the data. How do the results compare? Hint: replace `linear_model.LogisticRegression` in the code box at the end of the \"Building a Model\" section with `RandomForestClassifier`.\n",
    "\n",
    "What happens if you increase the number of estimators (the number of trees in the forest)? Hint: set `n_estimators` when creating a `RandomForestClassifier` object.\n",
    "___"
   ]
  },
  {
   "cell_type": "markdown",
   "metadata": {},
   "source": [
    "## Model Selection\n",
    "\n",
    "How do we decide whether to use the logistic regression model or the random forest classifier? In addition, models themselves often have a few parameters than need to be tuned, for example, the number of decision trees in the random forest. How do we make these decisions?\n",
    "\n",
    "We can try all of the various possibilities and evaluate the solution on the test set. The model that gives the best results is the winner. However, we don't want to use our test set for this selection process because we then won't have any unseen data to make a final evaluation. We need a *third* partition to our dataset set to evaluate the model, referred to as the \"validation set\". Instead of creating a fixed third partition as the validation set, we can use the method of **cross-validation.** This uses different splits of the training set for training and evaluation.\n",
    "\n",
    "Scikit-learn has a library of utilities for cross-validation and performance evaluation in the `sklearn.cross-validation` module. It has several classes which automatically generate different splits of the training set. We will be using the `StratifiedKFold` iterator, which splits the data into *n* folds. *n - 1* folds are used for training, and the *nth* fold is used for test. A stratified K-fold maintains approximately the same percentage of each outcome class in each fold as in the complete set.\n",
    "\n",
    "Let's use the stratified K-fold method to create train/test splits and use the average of the results of the K folds to evaluate our model choice."
   ]
  },
  {
   "cell_type": "code",
   "execution_count": 15,
   "metadata": {
    "collapsed": false
   },
   "outputs": [
    {
     "name": "stdout",
     "output_type": "stream",
     "text": [
      "Max min of Precision/Recall 0.34328358209\n",
      "Max min of Precision/Recall 0.34693877551\n",
      "Max min of Precision/Recall 0.404255319149\n",
      "Max min of Precision/Recall 0.510638297872\n",
      "Max min of Precision/Recall 0.382978723404\n",
      "Max min of Precision/Recall 0.425531914894\n",
      "Max min of Precision/Recall 0.521739130435\n",
      "Max min of Precision/Recall 0.45652173913\n",
      "Max min of Precision/Recall 0.509803921569\n",
      "Max min of Precision/Recall 0.458333333333\n",
      "Mean value over 10 folds: 0.436002473739\n"
     ]
    }
   ],
   "source": [
    "from sklearn.cross_validation import StratifiedKFold\n",
    "skf = StratifiedKFold(y, 10)  # 10 = number of folds\n",
    "\n",
    "max_precision_recall_values = []\n",
    "for train, test in skf:\n",
    "    # `train` and `test` are lists of the indices for the train and test\n",
    "    # sets.\n",
    "    X_train = X[train]\n",
    "    y_train = y[train]\n",
    "    X_test = X[test]\n",
    "    y_test = y[test]\n",
    "\n",
    "    # Here, we repeat all the preprocessing and model training that we\n",
    "    # went through in the code blocks above.\n",
    "    imp = Imputer(missing_values=-1, strategy='mean')\n",
    "    X_train_imputed = imp.fit_transform(X_train)\n",
    "    scaler = StandardScaler()\n",
    "    X_train_scaled = scaler.fit_transform(X_train_imputed)\n",
    "    model = linear_model.LogisticRegression()\n",
    "    model.fit(X_train_scaled, y_train)\n",
    "    X_test_scaled = scaler.transform(imp.transform(X_test))\n",
    "    predicted_probs = model.predict_proba(X_test_scaled)\n",
    "    precision, recall, thresholds = precision_recall_curve(y_test, predicted_probs[:,1])\n",
    "    both = zip(precision, recall)\n",
    "    max_precision_recall = max([min(r) for r in both])\n",
    "    print 'Max min of Precision/Recall', max([min(r) for r in both])\n",
    "    max_precision_recall_values.append(max_precision_recall)\n",
    "\n",
    "print 'Mean value over 10 folds:', numpy.mean(max_precision_recall_values)"
   ]
  },
  {
   "cell_type": "markdown",
   "metadata": {},
   "source": [
    "___\n",
    "\n",
    "**Exercise 6:** Use Stratified K-fold to measure the performance of the random forest classifier.\n",
    "___"
   ]
  },
  {
   "cell_type": "markdown",
   "metadata": {},
   "source": [
    "## Evaluating on the Test Set\n",
    "\n",
    "So far, we haven't touched the test set. This was intentional, so that you have a pristine dataset to test your final model on after we went through all the topics above. Try loading the data on your own from [https://raw.githubusercontent.com/lydiagu/ml-tutorial/master/physionet/test-a.csv](https://raw.githubusercontent.com/lydiagu/ml-tutorial/master/physionet/test-a.csv) and evaluating your model!"
   ]
  },
  {
   "cell_type": "markdown",
   "metadata": {},
   "source": [
    "## Data Preparation\n",
    "\n",
    "Raw data is not a nice csv. How did we preprocess the data?\n",
    "\n",
    "We only used the training set from the challenge website because that's the only labelled dataset available to the public. We further split the challenge training set into a train and test set for this tutorial (`train-a.csv` and `test-a.csv`).\n",
    "\n",
    "The featurization code can be found on [github](https://github.secureserver.net/lgu/techfest-ml-tutorial/blob/master/physionet/create_featurized_datasets.py). It both featurizes the dataset and splits it into train and test sets. Each patient record file is read and stored as a dictionary of metric name to list of measurements. Then for each metric name, we compute the min, max, mean, first value, last value and difference between first and last values. If no measurements were recorded for that metric, all of those features would be -1. \n"
   ]
  }
 ],
 "metadata": {
  "kernelspec": {
   "display_name": "Python 2",
   "language": "python",
   "name": "python2"
  },
  "language_info": {
   "codemirror_mode": {
    "name": "ipython",
    "version": 2
   },
   "file_extension": ".py",
   "mimetype": "text/x-python",
   "name": "python",
   "nbconvert_exporter": "python",
   "pygments_lexer": "ipython2",
   "version": "2.7.6"
  }
 },
 "nbformat": 4,
 "nbformat_minor": 0
}
