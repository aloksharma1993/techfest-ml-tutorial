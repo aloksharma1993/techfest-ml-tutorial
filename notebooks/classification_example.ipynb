{
 "cells": [
  {
   "cell_type": "markdown",
   "metadata": {},
   "source": [
    "#Classification\n",
    "\n",
    "Classification is a form of supervised learning where the outcome is a discrete *class*. For example, a message in your inbox can be classified as *email* or *spam*. A handwritten digit recognizer outputs one of 10 possible classes, one for each digit (0-9).\n",
    "\n",
    "Let's use machine learning to predict mortality of Intensive Care Unit (ICU) patients. The dataset we'll be looking at is from the [2012 PhysioNet/Computing in Cardiology challenge](http://physionet.org/challenge/2012/). It contains records of ICU stays longer than 48 hours. At the start of the stay, several static attributes such as age, gender and height are recorded for the patient. Then over the next 48 hours, various medical measurements are taken, some more than once. The outcome we want to predict is whether the patient survived or died in-hospital."
   ]
  },
  {
   "cell_type": "markdown",
   "metadata": {},
   "source": [
    "## Loading the Data\n",
    "\n",
    "The raw dataset can be found on the challenge website linked above. However, for this tutorial, we did a little preprocessing for you, so we spend less time on data munging. If you want to know more about what we did, see the [Feature Engineering](#Feature-Engineering) section at the bottom of the tutorial.\n",
    "\n",
    "We provide a [training set](https://raw.githubusercontent.com/lydiagu/ml-tutorial/master/physionet/train-a.csv) and a [test set](https://raw.githubusercontent.com/lydiagu/ml-tutorial/master/physionet/test-a.csv). The data is stored as a CSV, with a header labelling the attributes. Let's load the training set by using the `requests` library to download the file."
   ]
  },
  {
   "cell_type": "code",
   "execution_count": 1,
   "metadata": {
    "collapsed": false,
    "scrolled": true
   },
   "outputs": [
    {
     "name": "stdout",
     "output_type": "stream",
     "text": [
      "200\n"
     ]
    }
   ],
   "source": [
    "import requests\n",
    "response = requests.get('https://raw.githubusercontent.com/lydiagu/ml-tutorial/master/physionet/train-a.csv')\n",
    "print response.status_code\n",
    "raw_data = response.content"
   ]
  },
  {
   "cell_type": "markdown",
   "metadata": {},
   "source": [
    "Because `csv.reader()` expects a file-like object as the argument, we wrap the downloaded data in a `StringIO` object, which provides the methods `csv.reader()` expects."
   ]
  },
  {
   "cell_type": "code",
   "execution_count": 2,
   "metadata": {
    "collapsed": false
   },
   "outputs": [],
   "source": [
    "import csv\n",
    "import StringIO\n",
    "\n",
    "f = StringIO.StringIO(raw_data)\n",
    "data = []\n",
    "reader = csv.reader(f)\n",
    "feature_names = reader.next()\n",
    "for row in reader:\n",
    "    row = [float(r) for r in row]\n",
    "    data.append(row)"
   ]
  },
  {
   "cell_type": "markdown",
   "metadata": {},
   "source": [
    "What kind of attributes do we have in our dataset? Let's print the header."
   ]
  },
  {
   "cell_type": "code",
   "execution_count": 3,
   "metadata": {
    "collapsed": false
   },
   "outputs": [
    {
     "name": "stdout",
     "output_type": "stream",
     "text": [
      "['ALP_diff', 'ALP_first', 'ALP_last', 'ALP_max', 'ALP_mean', 'ALP_min', 'ALT_diff', 'ALT_first', 'ALT_last', 'ALT_max', 'ALT_mean', 'ALT_min', 'AST_diff', 'AST_first', 'AST_last', 'AST_max', 'AST_mean', 'AST_min', 'Age', 'Albumin_diff', 'Albumin_first', 'Albumin_last', 'Albumin_max', 'Albumin_mean', 'Albumin_min', 'BUN_diff', 'BUN_first', 'BUN_last', 'BUN_max', 'BUN_mean', 'BUN_min', 'Bilirubin_diff', 'Bilirubin_first', 'Bilirubin_last', 'Bilirubin_max', 'Bilirubin_mean', 'Bilirubin_min', 'Cholesterol_diff', 'Cholesterol_first', 'Cholesterol_last', 'Cholesterol_max', 'Cholesterol_mean', 'Cholesterol_min', 'Creatinine_diff', 'Creatinine_first', 'Creatinine_last', 'Creatinine_max', 'Creatinine_mean', 'Creatinine_min', 'DiasABP_diff', 'DiasABP_first', 'DiasABP_last', 'DiasABP_max', 'DiasABP_mean', 'DiasABP_min', 'FiO2_diff', 'FiO2_first', 'FiO2_last', 'FiO2_max', 'FiO2_mean', 'FiO2_min', 'GCS_diff', 'GCS_first', 'GCS_last', 'GCS_max', 'GCS_mean', 'GCS_min', 'Gender', 'Glucose_diff', 'Glucose_first', 'Glucose_last', 'Glucose_max', 'Glucose_mean', 'Glucose_min', 'HCO3_diff', 'HCO3_first', 'HCO3_last', 'HCO3_max', 'HCO3_mean', 'HCO3_min', 'HCT_diff', 'HCT_first', 'HCT_last', 'HCT_max', 'HCT_mean', 'HCT_min', 'HR_diff', 'HR_first', 'HR_last', 'HR_max', 'HR_mean', 'HR_min', 'Height', 'ICUType', 'K_diff', 'K_first', 'K_last', 'K_max', 'K_mean', 'K_min', 'Lactate_diff', 'Lactate_first', 'Lactate_last', 'Lactate_max', 'Lactate_mean', 'Lactate_min', 'MAP_diff', 'MAP_first', 'MAP_last', 'MAP_max', 'MAP_mean', 'MAP_min', 'MechVent_diff', 'MechVent_first', 'MechVent_last', 'MechVent_max', 'MechVent_mean', 'MechVent_min', 'Mg_diff', 'Mg_first', 'Mg_last', 'Mg_max', 'Mg_mean', 'Mg_min', 'NIDiasABP_diff', 'NIDiasABP_first', 'NIDiasABP_last', 'NIDiasABP_max', 'NIDiasABP_mean', 'NIDiasABP_min', 'NIMAP_diff', 'NIMAP_first', 'NIMAP_last', 'NIMAP_max', 'NIMAP_mean', 'NIMAP_min', 'NISysABP_diff', 'NISysABP_first', 'NISysABP_last', 'NISysABP_max', 'NISysABP_mean', 'NISysABP_min', 'Na_diff', 'Na_first', 'Na_last', 'Na_max', 'Na_mean', 'Na_min', 'PaCO2_diff', 'PaCO2_first', 'PaCO2_last', 'PaCO2_max', 'PaCO2_mean', 'PaCO2_min', 'PaO2_diff', 'PaO2_first', 'PaO2_last', 'PaO2_max', 'PaO2_mean', 'PaO2_min', 'Platelets_diff', 'Platelets_first', 'Platelets_last', 'Platelets_max', 'Platelets_mean', 'Platelets_min', 'RespRate_diff', 'RespRate_first', 'RespRate_last', 'RespRate_max', 'RespRate_mean', 'RespRate_min', 'SaO2_diff', 'SaO2_first', 'SaO2_last', 'SaO2_max', 'SaO2_mean', 'SaO2_min', 'SysABP_diff', 'SysABP_first', 'SysABP_last', 'SysABP_max', 'SysABP_mean', 'SysABP_min', 'Temp_diff', 'Temp_first', 'Temp_last', 'Temp_max', 'Temp_mean', 'Temp_min', 'TroponinI_diff', 'TroponinI_first', 'TroponinI_last', 'TroponinI_max', 'TroponinI_mean', 'TroponinI_min', 'TroponinT_diff', 'TroponinT_first', 'TroponinT_last', 'TroponinT_max', 'TroponinT_mean', 'TroponinT_min', 'Urine_diff', 'Urine_first', 'Urine_last', 'Urine_max', 'Urine_mean', 'Urine_min', 'WBC_diff', 'WBC_first', 'WBC_last', 'WBC_max', 'WBC_mean', 'WBC_min', 'Weight_diff', 'Weight_first', 'Weight_last', 'Weight_max', 'Weight_mean', 'Weight_min', 'pH_diff', 'pH_first', 'pH_last', 'pH_max', 'pH_mean', 'pH_min', 'In-hospital_death']\n"
     ]
    }
   ],
   "source": [
    "print feature_names"
   ]
  },
  {
   "cell_type": "markdown",
   "metadata": {},
   "source": [
    "Whoa, that's a lot of variable names! Let's take a closer look. We have fields like `Age`, `Gender`, `ICUType` and `Height`, which only have one value, and then we have a bunch of fields with `FIELDNAME_min`, `FIELDNAME_max`, `FIELDNAME_mean`, etc. This is how we decided to handle the time series measurements. For each medical metric, we computed the min, max, mean, first value, last value and difference between first and last values as a way to represent measurements over time. That's why there are so many fields! The medical measurements themselves are explained in more detail on the [Physionet website](http://physionet.org/challenge/2012/).\n",
    "\n",
    "The outcome is the last field: `In-hospital_death`. 1 means the patient died in the hospital. 0 means the patient survived.\n",
    "\n",
    "Not all of the metrics were measured for each patient. Missing values are represented by -1. All recorded values are nonnegative.\n",
    "\n",
    "Let's separate the features from the outcome and store them in `numpy` arrays. `numpy` is a library useful for scientific computing, and it defines array objects for storing scientific data, as well as many mathematical functions. `scikit-learn`, the Python machine learning library we'll be using in this tutorial, is designed to work well with data in `numpy` arrays."
   ]
  },
  {
   "cell_type": "code",
   "execution_count": 26,
   "metadata": {
    "collapsed": false
   },
   "outputs": [],
   "source": [
    "import numpy\n",
    "X = numpy.array([f[0:-1] for f in data])  # features\n",
    "y = numpy.array([f[-1] for f in data])  # labels"
   ]
  },
  {
   "cell_type": "markdown",
   "metadata": {},
   "source": [
    "## Understanding the Data\n",
    "\n",
    "How do we begin understanding our dataset? A good place to start is by measuring the proportion of positive outcomes. The proportion of positive outcomes is just the mean of the labels, since labels are either 0 or 1. Since we put our data into numpy arrays, we can take advantage of some [very useful methods on arrays](http://docs.scipy.org/doc/numpy/reference/arrays.ndarray.html)."
   ]
  },
  {
   "cell_type": "code",
   "execution_count": 27,
   "metadata": {
    "collapsed": false
   },
   "outputs": [
    {
     "name": "stdout",
     "output_type": "stream",
     "text": [
      "0.145625\n"
     ]
    }
   ],
   "source": [
    "print y.mean()"
   ]
  },
  {
   "cell_type": "markdown",
   "metadata": {},
   "source": [
    "The proportion is fairly low (as would hopefully be expected with modern medicine!).\n",
    "\n",
    "Let's use [matplotlib](http://matplotlib.org/api/) and the [histogram function](http://matplotlib.org/api/pyplot_api.html#matplotlib.pyplot.hist) to visualize some of the features.\n",
    "\n",
    "The following line enables IPython's matplotlib mode."
   ]
  },
  {
   "cell_type": "code",
   "execution_count": 6,
   "metadata": {
    "collapsed": true
   },
   "outputs": [],
   "source": [
    "%matplotlib inline"
   ]
  },
  {
   "cell_type": "code",
   "execution_count": 8,
   "metadata": {
    "collapsed": false
   },
   "outputs": [
    {
     "data": {
      "image/png": "[encoded data removed]",
      "text/plain": [
       "<matplotlib.figure.Figure at 0x7f732d01f6d0>"
      ]
     },
     "metadata": {},
     "output_type": "display_data"
    }
   ],
   "source": [
    "import matplotlib.pyplot as plt\n",
    "\n",
    "age_idx = feature_names.index('Age')  # Get the index of the 'Age' column.\n",
    "ages = X[:, age_idx]  # Extract the 'Age' column.\n",
    "\n",
    "n, bins, patches = plt.hist(ages, bins=10, range=(0,100))\n",
    "plt.show()"
   ]
  },
  {
   "cell_type": "markdown",
   "metadata": {},
   "source": [
    "As would be expected, the histogram peaks at an older age (75).\n",
    "\n",
    "___\n",
    "**Exercise:** Can you plot the histogram of another feature? Hint: if you remove the `bins` and `range` keyword arguments to `plt.hist`, it automatically finds a reasonable set of bins for your data.\n",
    "___"
   ]
  },
  {
   "cell_type": "markdown",
   "metadata": {},
   "source": [
    "## Building a Model\n",
    "\n",
    "`Scikit-learn` uses a common API for all of their machine learning models, which makes it really easy to try different models. Let's start with a simple [logistic regression](http://scikit-learn.org/stable/modules/generated/sklearn.linear_model.LogisticRegression.html).\n",
    "\n",
    "**NOTE** A logistic regression model is *not* used for regression -- it is used for *classification*. Confusing! It's naming comes from the fact that it uses a linear model (similar to linear regression) to map the inputs to outputs. However, it then passes the output through a function (the logit function) which caps the value from 0 to 1, and increases the steepness of the curve around the midpoint - the image below plots the logit function. This allows the model to be used for classification.\n",
    "\n",
    "<img src=\"http://upload.wikimedia.org/wikipedia/commons/8/88/Logistic-curve.svg\" width=\"30%\" height=\"30%\"></img>\n",
    "\n",
    "First, we'll split the dataset into a train and test set, with 80% used for training."
   ]
  },
  {
   "cell_type": "code",
   "execution_count": 10,
   "metadata": {
    "collapsed": false
   },
   "outputs": [
    {
     "name": "stdout",
     "output_type": "stream",
     "text": [
      "# in training set: 2560\n"
     ]
    }
   ],
   "source": [
    "TRAIN_SIZE = int(0.8 * len(X))\n",
    "print '# in training set:', num_train\n",
    "X_train = X[:TRAIN_SIZE]\n",
    "y_train = y[:TRAIN_SIZE]\n",
    "X_test = X[TRAIN_SIZE:]\n",
    "y_test = y[TRAIN_SIZE:]"
   ]
  },
  {
   "cell_type": "markdown",
   "metadata": {},
   "source": [
    "Because logistic regression is based on a linear model, it won't handle missing values represented by -1 very well. Scikit-learn has an `Imputer` class that provides basic strategies for filling in, or *imputing*, missing values. Let's use the strategy of using the mean of the known values to replace the missing values."
   ]
  },
  {
   "cell_type": "code",
   "execution_count": 11,
   "metadata": {
    "collapsed": true
   },
   "outputs": [],
   "source": [
    "from sklearn.preprocessing import Imputer\n",
    "imp = Imputer(missing_values=-1, strategy='mean')\n",
    "X_train_imputed = imp.fit_transform(X_train)"
   ]
  },
  {
   "cell_type": "markdown",
   "metadata": {},
   "source": [
    "Linear models are also sensitive to different ranges for input features. For example, if one input features has a range of -1 to 1 and another has a range of 0 to 100, the feature with the larger range will disproportionately influence the model. (TODO: verify?) To combat this, we scale all the features to **zero mean and unit variance**, using scikit-learn's `StandardScaler` class.\n",
    "\n",
    "Note: We filled in missing values before scaling, otherwise the number used to represent missing values would distort the scaling."
   ]
  },
  {
   "cell_type": "code",
   "execution_count": 12,
   "metadata": {
    "collapsed": false
   },
   "outputs": [],
   "source": [
    "from sklearn.preprocessing import StandardScaler\n",
    "scaler = StandardScaler()\n",
    "X_train_scaled = scaler.fit_transform(X_train_imputed)"
   ]
  },
  {
   "cell_type": "markdown",
   "metadata": {},
   "source": [
    "Ok, now we're ready to train the model. Scikit-learn's models all have a `fit()` function to fit the model to the training data and a `predict()` function to predict the outcome on new input data."
   ]
  },
  {
   "cell_type": "code",
   "execution_count": 13,
   "metadata": {
    "collapsed": false
   },
   "outputs": [
    {
     "data": {
      "text/plain": [
       "LogisticRegression(C=1.0, class_weight=None, dual=False, fit_intercept=True,\n",
       "          intercept_scaling=1, max_iter=100, multi_class='ovr',\n",
       "          penalty='l2', random_state=None, solver='liblinear', tol=0.0001,\n",
       "          verbose=0)"
      ]
     },
     "execution_count": 13,
     "metadata": {},
     "output_type": "execute_result"
    }
   ],
   "source": [
    "from sklearn import linear_model\n",
    "model = linear_model.LogisticRegression()\n",
    "model.fit(X_train_scaled, y_train)"
   ]
  },
  {
   "cell_type": "markdown",
   "metadata": {},
   "source": [
    "## Evaluating a Model\n",
    "Now that we have a model, how do we tell how good it is? Since we have labelled outcomes to compare predictions to, we can quantitatively measure how well the model is doing. This is where we use the test set. Because we only used the training set to develop the model, we can use the test set to see how well the model works on unseen data. With classification, each outcome is either predicted correctly or not, so the measure of success is binary.\n",
    "\n",
    "Models in scikit-learn usually have a `score()` method, which takes in a set of features and their labels. For logistic regression, this method returns the **accuracy** of the model on the input data. Accuracy is the number of outcomes correctly predicted divided by the total number of outcomes."
   ]
  },
  {
   "cell_type": "code",
   "execution_count": 14,
   "metadata": {
    "collapsed": false
   },
   "outputs": [
    {
     "data": {
      "text/plain": [
       "0.85624999999999996"
      ]
     },
     "execution_count": 14,
     "metadata": {},
     "output_type": "execute_result"
    }
   ],
   "source": [
    "X_test_scaled = scaler.transform(imp.transform(X_test))\n",
    "model.score(X_test_scaled, y_test)"
   ]
  },
  {
   "cell_type": "markdown",
   "metadata": {},
   "source": [
    "Remember from before that the proportion of positive outcomes is fairly low. This means that accuracy is not necessarily a very useful metric of model performance. A model which predicts survival for each patient (a negative outcome) would still be ~86% accurate! Thankfully, there are other metrics for model performance. Before we go into these metrics, let's define a few terms. In binary classification, there is a **positive** outcome and a **negative** outcome. Typically, the positive outcome is the case you'd like to detect (ex. detecting a malignant tumor, or detecting spam), and the negative outcome is the more normal, generally expected outcome (ex. not a tumor, or is email). In our example, the positive outcome is an in-hospital death. The prediction results can be one of the following:\n",
    "* **true positive**: a correctly predicted positive outcome\n",
    "* ** false positive**: a negative outcome incorrectly predicted as positive\n",
    "* ** true negative**: a correctly predicted negative outcome\n",
    "* ** false negative**: a positive outcome incorrectly predicted as negative\n",
    "\n",
    "Let's now apply these terms to other metrics for model performance:\n",
    "* **recall**, also known as **sensitivity**: of the patients who died, how many did we predict correctly. This is the number of true positives over the total number of positives.\n",
    "* **precision**, also known as **positive predictivity**: of the patients we predicted positive, what fraction was correct. This is the number of true positives over the total number we predicted as positive.\n",
    "\n",
    "One method of visualizing these metrics is to plot the precision-recall curve. As precision goes down, recall tends to go up. For example, we can achieve 100% recall if we predict everyone as positive, but this means our precision is 14.5% (the proportion of true positives)."
   ]
  },
  {
   "cell_type": "code",
   "execution_count": 15,
   "metadata": {
    "collapsed": false
   },
   "outputs": [
    {
     "data": {
      "image/png": "[encoded data removed]",
      "text/plain": [
       "<matplotlib.figure.Figure at 0x7f735ab744d0>"
      ]
     },
     "metadata": {},
     "output_type": "display_data"
    }
   ],
   "source": [
    "from sklearn.metrics import precision_recall_curve\n",
    "import matplotlib.pyplot as plt\n",
    "\n",
    "predicted_probs = model.predict_proba(X_test_scaled)\n",
    "precision, recall, thresholds = precision_recall_curve(y_test, predicted_probs[:,1])\n",
    "plt.plot(precision, recall, 's-', lw=1)\n",
    "plt.xlim([-0.05, 1.05])\n",
    "plt.ylim([-0.05, 1.05])\n",
    "plt.xlabel('Precision')\n",
    "plt.ylabel('Recall')\n",
    "plt.show()"
   ]
  },
  {
   "cell_type": "markdown",
   "metadata": {},
   "source": [
    "One measure of model performance (and the method used in the Physionet challenge) is the minimum of precision and recall. One would pick the point in the curve that maximizes this value."
   ]
  },
  {
   "cell_type": "code",
   "execution_count": 16,
   "metadata": {
    "collapsed": false
   },
   "outputs": [
    {
     "name": "stdout",
     "output_type": "stream",
     "text": [
      "Max min of P/Se 0.505376344086\n"
     ]
    }
   ],
   "source": [
    "both = zip(precision, recall)\n",
    "print 'Max min of P/Se', max([min(r) for r in both])"
   ]
  },
  {
   "cell_type": "markdown",
   "metadata": {},
   "source": [
    "Another commonly used metric in classification is the **Receiver Operating Characteristic (ROC) curve**. This curve plots the recall/sensitivity (also known as **True Positive Rate**) vs. the false positive rate:\n",
    "* **false positive rate**: number of false positives over the total number of negatives."
   ]
  },
  {
   "cell_type": "code",
   "execution_count": 17,
   "metadata": {
    "collapsed": false
   },
   "outputs": [
    {
     "name": "stdout",
     "output_type": "stream",
     "text": [
      "AUC 0.821792684862\n"
     ]
    },
    {
     "data": {
      "image/png": "[encoded data removed]",
      "text/plain": [
       "<matplotlib.figure.Figure at 0x7f73225f3750>"
      ]
     },
     "metadata": {},
     "output_type": "display_data"
    }
   ],
   "source": [
    "from sklearn.metrics import roc_auc_score\n",
    "from sklearn.metrics import roc_curve\n",
    "print 'AUC', roc_auc_score(y_test, predicted_probs[:,1])\n",
    "\n",
    "fpr, tpr, thresholds = roc_curve(y_test, predicted_probs[:,1])\n",
    "plt.plot(fpr, tpr, 's-', lw=1)\n",
    "plt.xlim([-0.05, 1.05])\n",
    "plt.ylim([-0.05, 1.05])\n",
    "plt.xlabel('False Positive Rate')\n",
    "plt.ylabel('True Positive Rate')\n",
    "plt.show()"
   ]
  },
  {
   "cell_type": "markdown",
   "metadata": {},
   "source": [
    "A perfect predictor would have a true positive rate of 1 while the false positive rate is 0. In general, we want to maximize the area under the ROC curve. The greater the area, the better performing the model is. `sklearn` has a function [`roc_auc_score`](http://scikit-learn.org/stable/modules/generated/sklearn.metrics.roc_auc_score.html#sklearn.metrics.roc_auc_score) that computes the area under the curve (AUC).\n",
    "___\n",
    "**Exercise:** If I can only tolerate a false positive rate of 20% (maybe I have limited hospital resources), what is the maximum recall I can achieve with the logistic regression model?\n",
    "___\n",
    "**Exercise:** Try using a [Random Forest Classifier](http://scikit-learn.org/stable/modules/generated/sklearn.ensemble.RandomForestClassifier.html) instead of a logistic regression model. A random forest model averages the result of many decision trees trained on random subsets of the data. How do the results compare? What if you increase the number of estimators (the number of trees in the forest)? \n",
    "___"
   ]
  },
  {
   "cell_type": "markdown",
   "metadata": {},
   "source": [
    "## Model Selection\n",
    "\n",
    "The logistic regression model takes in a hyperparameter *C* that controls the regularization. Regularization is the method of introducing constraints to a solution to prevent overfitting. In logistic regression, the type of regularization used is usually a penalty on very large coefficients. *C* controls the amount of penalty incurred. So how do we pick the best *C* for our dataset? For that matter, how do we know logistic regression is even the model we should use?\n",
    "\n",
    "Well, we can try all of the various possibilities and evaluate the solution on a test set. The model that gives the best results is the winner. However, we don't want to use our test set for this selection process because we then won't have any unseen data to make a final evaluation. We need a *third* partition to our dataset set to evaluate the model, referred to as the \"validation set\". Instead of creating a fixed third partition as the validation set, we usually choose to use the method of **cross-validation.** This uses different splits of the training set for train and evaluation.\n",
    "\n",
    "Scikit-learn has a library of utilities for cross-validation and performance evaluation in the `sklearn.cross-validation` module. It has several classes which automatically generate different splits of the training set. We will be using the `StratifiedKFold` iterator, which splits the data into *n* folds. *n - 1* folds are used for training, and the *nth* fold is used for test. A stratified K-fold maintains approximately the same percentage of each outcome class in each fold as in the complete set.\n",
    "\n",
    "Let's use the stratified K-fold method to create train/test splits and use the average of the results of the K folds to evaluate our model choice."
   ]
  },
  {
   "cell_type": "code",
   "execution_count": 25,
   "metadata": {
    "collapsed": false
   },
   "outputs": [
    {
     "name": "stdout",
     "output_type": "stream",
     "text": [
      "Max min of P/Se 0.34328358209\n",
      "Max min of P/Se 0.34693877551\n",
      "Max min of P/Se 0.404255319149\n",
      "Max min of P/Se 0.510638297872\n",
      "Max min of P/Se 0.382978723404\n",
      "Max min of P/Se 0.425531914894\n",
      "Max min of P/Se 0.521739130435\n",
      "Max min of P/Se 0.45652173913\n",
      "Max min of P/Se 0.509803921569\n",
      "Max min of P/Se 0.458333333333\n",
      "Mean value over 10 folds: 0.436002473739\n"
     ]
    }
   ],
   "source": [
    "from sklearn.cross_validation import StratifiedKFold\n",
    "skf = StratifiedKFold(y, 10)  # 10 = number of folds\n",
    "\n",
    "max_P_Se_values = []\n",
    "for train, test in skf:\n",
    "    X_train = X[train]\n",
    "    y_train = y[train]\n",
    "    X_test = X[test]\n",
    "    y_test = y[test]\n",
    "    \n",
    "    imp = Imputer(missing_values=-1, strategy='mean')\n",
    "    X_train_imputed = imp.fit_transform(X_train)\n",
    "    scaler = StandardScaler()\n",
    "    X_train_scaled = scaler.fit_transform(X_train_imputed)\n",
    "    model = linear_model.LogisticRegression()\n",
    "    model.fit(X_train_scaled, y_train)\n",
    "    X_test_scaled = scaler.transform(imp.transform(X_test))\n",
    "    predicted_probs = model.predict_proba(X_test_scaled)\n",
    "    precision, recall, thresholds = precision_recall_curve(y_test, predicted_probs[:,1])\n",
    "    both = zip(precision, recall)\n",
    "    max_P_Se = max([min(r) for r in both])\n",
    "    print 'Max min of P/Se', max([min(r) for r in both])\n",
    "    max_P_Se_values.append(max_P_Se)\n",
    "\n",
    "print 'Mean value over 10 folds:', numpy.mean(max_P_Se_values)"
   ]
  },
  {
   "cell_type": "markdown",
   "metadata": {},
   "source": [
    "___\n",
    "\n",
    "**Exercise:** Use Stratified K-fold to measure the performance of the random forest classifier.\n",
    "___\n",
    "**Exercise:** Use Stratified K-fold to measure the performance of logistic regression with C = 0.1. How about C = 0.01? (You can change C, which defaults to 1, by passing C as a parameter to the model: `linear_model.LogisticRegression(C=0.1)`.\n",
    "___\n",
    "\n",
    "\n",
    "We randomly tested a couple of values for C, but how do we actually find the best value of C? What if we had a *second* parameter *a*? Now the problem is even harder! The traditional method is [**grid search**](http://scikit-learn.org/stable/modules/grid_search.html), where you exhaustively try all the parameter combinations until the best model is found. More efficient methods have been developed over the years. Scikit-learn has several different implementations of parameter search algorithms in the [`sklearn.grid_search`](http://scikit-learn.org/stable/modules/classes.html#module-sklearn.grid_search) module."
   ]
  },
  {
   "cell_type": "markdown",
   "metadata": {},
   "source": [
    "## Evaluating on the Test Set\n",
    "\n",
    "So far, we haven't touched the test set. This was intentional, so that you have a pristine dataset to test your final model on after we went through all the topics above. Try loading the data on your own from [https://raw.githubusercontent.com/lydiagu/ml-tutorial/master/physionet/test-a.csv](https://raw.githubusercontent.com/lydiagu/ml-tutorial/master/physionet/test-a.csv) and evaluating your model!"
   ]
  },
  {
   "cell_type": "markdown",
   "metadata": {},
   "source": [
    "## Feature Engineering\n",
    "\n",
    "Raw data is not a nice csv. How did we preprocess the data?\n",
    "\n",
    "We only used the training set from the challenge website because that's the only labelled dataset available to the public. We further split the challenge training set into a train and test set for this tutorial (`train-a.csv` and `test-a.csv`).\n",
    "\n",
    "The featurization code can be found on [github](https://github.secureserver.net/lgu/techfest-ml-tutorial/blob/master/physionet/create_featurized_datasets.py). It both featurizes the dataset and splits it into train and test sets. Each patient record file is read and stored as a dictionary of metric name to list of measurements. Then for each metric name, we compute the min, max, mean, first value, last value and difference between first and last values. If no measurements were recorded for that metric, all of those features would be -1. \n"
   ]
  }
 ],
 "metadata": {
  "kernelspec": {
   "display_name": "Python 2",
   "language": "python",
   "name": "python2"
  },
  "language_info": {
   "codemirror_mode": {
    "name": "ipython",
    "version": 2
   },
   "file_extension": ".py",
   "mimetype": "text/x-python",
   "name": "python",
   "nbconvert_exporter": "python",
   "pygments_lexer": "ipython2",
   "version": "2.7.6"
  }
 },
 "nbformat": 4,
 "nbformat_minor": 0
}
