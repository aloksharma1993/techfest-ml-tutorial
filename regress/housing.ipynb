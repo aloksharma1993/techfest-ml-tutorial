{
 "cells": [
  {
   "cell_type": "markdown",
   "metadata": {},
   "source": [
    "# Boston Housing data\n",
    "\n",
    "\n",
    "This part of the tutorial loads data about Boston housing and median house prices. The goal is to predict the housing price in each district given a series of features.\n",
    "\n",
    "Features include race, air quality and plot size."
   ]
  },
  {
   "cell_type": "markdown",
   "metadata": {
    "collapsed": true
   },
   "source": [
    "<table><tr><td><img src=\"boston_roads.png\" width=\"70%\" height=\"70%\"></td><td><img src=\"colorful_row_houses.jpg\" width=\"70%\" height=\"70%\"></td></tr>\n",
    "</table>"
   ]
  },
  {
   "cell_type": "code",
   "execution_count": 1,
   "metadata": {
    "collapsed": false
   },
   "outputs": [
    {
     "name": "stderr",
     "output_type": "stream",
     "text": [
      "/Library/Python/2.7/site-packages/numpy/core/fromnumeric.py:2499: VisibleDeprecationWarning: `rank` is deprecated; use the `ndim` attribute or function instead. To find the rank of a matrix see `numpy.linalg.matrix_rank`.\n",
      "  VisibleDeprecationWarning)\n"
     ]
    }
   ],
   "source": [
    "# Load the data\n",
    "import warnings\n",
    "from sklearn.datasets import load_boston\n",
    "\n",
    "TRAIN_SIZE = 200\n",
    "\n",
    "warnings.filterwarnings('ignore')\n",
    "\n",
    "boston = load_boston()\n",
    "X_train = boston[\"data\"][:TRAIN_SIZE]\n",
    "y_train = boston[\"target\"][:TRAIN_SIZE]\n",
    "X_test = boston[\"data\"][TRAIN_SIZE:]\n",
    "y_test = boston[\"target\"][TRAIN_SIZE:]\n",
    "\n",
    "all_features = boston[\"feature_names\"]\n"
   ]
  },
  {
   "cell_type": "markdown",
   "metadata": {},
   "source": [
    "#Feature Explanation\n",
    "What do these features mean?"
   ]
  },
  {
   "cell_type": "markdown",
   "metadata": {},
   "source": [
    "1. CRIM: per capita crime rate by town\n",
    "2. ZN: proportion of residential land zoned for lots over 25,000 sq.ft.\n",
    "3. INDUS: proportion of non-retail business acres per town\n",
    "4. CHAS: Charles River dummy variable (= 1 if tract bounds river; 0 otherwise)\n",
    "5. NOX: nitric oxides concentration (parts per 10 million)\n",
    "6. RM: average number of rooms per dwelling\n",
    "7. AGE: proportion of owner-occupied units built prior to 1940\n",
    "8. DIS: weighted distances to five Boston employment centres\n",
    "9. RAD: index of accessibility to radial highways\n",
    "10. TAX: full-value property-tax rate per 10,000 dollars\n",
    "11. PTRATIO: pupil-teacher ratio by town\n",
    "12. B: 1000(Bk - 0.63)^2 where Bk is the proportion of blacks by town\n",
    "13. LSTAT: Percent lower status of the population\n",
    "14. MEDV: Median value of owner-occupied homes in 1000s of dollars"
   ]
  },
  {
   "cell_type": "markdown",
   "metadata": {},
   "source": [
    "#Plot Data\n",
    "Fet a feel for plotting data.\n",
    "FOR THE STUDENT:\n",
    "Increase FEATURES_TO_SHOW to see all 13 features."
   ]
  },
  {
   "cell_type": "code",
   "execution_count": 2,
   "metadata": {
    "collapsed": false
   },
   "outputs": [
    {
     "name": "stdout",
     "output_type": "stream",
     "text": [
      "\n",
      "Feature: CRIM\n"
     ]
    },
    {
     "data": {
      "image/png": "[encoded data removed]",
      "text/plain": [
       "<matplotlib.figure.Figure at 0x10e340e10>"
      ]
     },
     "metadata": {},
     "output_type": "display_data"
    },
    {
     "name": "stdout",
     "output_type": "stream",
     "text": [
      "y=-0.421677x+(24.415939), R^2 = 0.20\n",
      "\n",
      "Feature: ZN\n"
     ]
    },
    {
     "data": {
      "image/png": "[encoded data removed]",
      "text/plain": [
       "<matplotlib.figure.Figure at 0x10ec92d10>"
      ]
     },
     "metadata": {},
     "output_type": "display_data"
    },
    {
     "name": "stdout",
     "output_type": "stream",
     "text": [
      "y=0.160753x+(20.109698), R^2 = 0.15\n"
     ]
    }
   ],
   "source": [
    "# LET's plot it\n",
    "import matplotlib.pyplot as plt\n",
    "import numpy\n",
    "import pylab\n",
    "import scipy\n",
    "# ALLOW inline graphs\n",
    "%matplotlib inline\n",
    "\n",
    "# FOR THE student:\n",
    "# Look at more graphs of features and find those that look to be the best\n",
    "# fits\n",
    "\n",
    "FEATURES_TO_SHOW = 2\n",
    "\n",
    "for feature_name in all_features[:FEATURES_TO_SHOW]:\n",
    "    print\n",
    "    print 'Feature: %s' % feature_name\n",
    "    idx = list(all_features).index(feature_name)\n",
    "    x_vals = [x[idx] for x in X_test]\n",
    "#    plt.scatter([x[idx] for x in X_test], y_test, color='blue')\n",
    "    plt.scatter(x_vals, y_test, color='blue')\n",
    "\n",
    "    plt.xticks(())\n",
    "    plt.yticks(())\n",
    "    z = numpy.polyfit(x_vals, y_test, 1)\n",
    "    p = numpy.poly1d(z)\n",
    "    pylab.plot(x_vals, p(x_vals),'r-')\n",
    "    \n",
    "    plt.ylim([-0.05, 100.0])\n",
    "    plt.xlabel(feature_name)\n",
    "    plt.ylabel('Median ($k)')\n",
    "    plt.show()\n",
    "    slope, intercept, r_value, p_value, std_err = scipy.stats.linregress(x_vals, y_test)\n",
    "    print \"y=%.6fx+(%.6f), R^2 = %.2f\" % (z[0], z[1], r_value**2)\n",
    "\n",
    "\n",
    "#housing.main()"
   ]
  },
  {
   "cell_type": "markdown",
   "metadata": {},
   "source": [
    "Next let's see some of the data. X is a matrix of all feature values. y is a vector of target data."
   ]
  },
  {
   "cell_type": "code",
   "execution_count": 3,
   "metadata": {
    "collapsed": false
   },
   "outputs": [
    {
     "name": "stdout",
     "output_type": "stream",
     "text": [
      "['CRIM' 'ZN' 'INDUS' 'CHAS' 'NOX' 'RM' 'AGE' 'DIS' 'RAD' 'TAX' 'PTRATIO'\n",
      " 'B' 'LSTAT' 'MEDV']\n",
      "y training size is 200\n",
      "X training size is 13 x 200\n",
      "y training set is in $k [ 24.   21.6  34.7  33.4  36.2]\n"
     ]
    }
   ],
   "source": [
    "all_features = boston[\"feature_names\"]\n",
    "print str(all_features)\n",
    "print 'y training size is %d' % len(y_train)\n",
    "print 'X training size is %d x %d' % (len(X_train[0]), len(X_train))\n",
    "print 'y training set is in $k %s' % str(y_train[:5])"
   ]
  },
  {
   "cell_type": "markdown",
   "metadata": {},
   "source": [
    "# First Linear regression\n",
    "\n",
    "Let's try a couple of models. First a linear regression based on least squares. The variance should be close to 1 if the model is good. Don't be fooled by the R^2 on the training set. It's a line that does not describe the reality of taking on a real set of new random data."
   ]
  },
  {
   "cell_type": "code",
   "execution_count": 4,
   "metadata": {
    "collapsed": false
   },
   "outputs": [
    {
     "name": "stdout",
     "output_type": "stream",
     "text": [
      "R^2 train is 0.847066 # bogus\n",
      "R^2 test is -2.204567 # Needs improvement\n",
      "Coefficients: [  1.21702620e+00   2.28358110e-02   4.05630994e-03   1.55045296e-02\n",
      "  -7.33657559e+00   9.01161321e+00  -3.88193998e-02  -1.13348841e+00\n",
      "   4.60084845e-01  -1.76861359e-02  -6.84160019e-01   1.86722634e-02\n",
      "  -1.86732207e-01]\n"
     ]
    }
   ],
   "source": [
    "from sklearn import linear_model\n",
    "from sklearn.metrics import r2_score\n",
    "\n",
    "clf_linear_simple = linear_model.LinearRegression()\n",
    "\n",
    "clf_linear_simple.fit (X_train, y_train)\n",
    "linear_r2 = r2_score(y_train, clf_linear_simple.predict(X_train))\n",
    "print 'R^2 train is %f # bogus' % linear_r2\n",
    "linear_test_r2 = r2_score(y_test, clf_linear_simple.predict(X_test))\n",
    "print 'R^2 test is %f # Needs improvement' % linear_test_r2\n",
    "print 'Coefficients: ' + str(clf_linear_simple.coef_)\n"
   ]
  },
  {
   "cell_type": "markdown",
   "metadata": {},
   "source": [
    "# Feature Scaling\n",
    "Feature scaling helps prevent some features from appearing to dominate a training set."
   ]
  },
  {
   "cell_type": "code",
   "execution_count": 5,
   "metadata": {
    "collapsed": true
   },
   "outputs": [],
   "source": [
    "# SCALE it\n",
    "from sklearn.preprocessing import StandardScaler\n",
    "scaler = StandardScaler()\n",
    "X_train_scaled = scaler.fit_transform(X_train)\n",
    "X_test_scaled = scaler.fit_transform(X_test)"
   ]
  },
  {
   "cell_type": "markdown",
   "metadata": {},
   "source": [
    "#Rank Features\n",
    "Here we want to order the features by r-squared value."
   ]
  },
  {
   "cell_type": "code",
   "execution_count": 6,
   "metadata": {
    "collapsed": false,
    "scrolled": true
   },
   "outputs": [
    {
     "name": "stdout",
     "output_type": "stream",
     "text": [
      "Sorted features: [('RM', 0.73894619361181768), ('LSTAT', 0.52769518464243903), ('PTRATIO', 0.13342654496256567), ('AGE', 0.12980144789844669), ('NOX', 0.12410490220550857), ('INDUS', 0.11792867607631566), ('ZN', 0.10376321333031296), ('TAX', 0.054956412833148879), ('CRIM', 0.05419383650313047), ('B', 0.053449401983043113), ('RAD', 0.038413143693064977), ('DIS', 0.035549151338871841), ('CHAS', 0.0077014608973463719)]\n",
      "Good features: ['RM', 'LSTAT', 'PTRATIO', 'AGE', 'NOX', 'INDUS', 'ZN', 'TAX', 'CRIM', 'B', 'RAD', 'DIS', 'CHAS']\n"
     ]
    }
   ],
   "source": [
    "import operator\n",
    "r2_values = {}\n",
    "for feature_name in all_features[:-1]:\n",
    "    idx = list(all_features).index(feature_name)\n",
    "    x_vals = [x[idx] for x in X_train_scaled]\n",
    "    slope, intercept, r_value, p_value, std_err = scipy.stats.linregress(x_vals, y_train)\n",
    "    r2_values[feature_name] = r_value ** 2\n",
    "sorted_features = sorted(r2_values.items(), key=operator.itemgetter(1), reverse=True)\n",
    "print 'Sorted features: ' + str(sorted_features)\n",
    "good_features = [x[0] for x in sorted_features]\n",
    "print 'Good features: ' + str(good_features)"
   ]
  },
  {
   "cell_type": "markdown",
   "metadata": {},
   "source": [
    "#Feature Selection\n",
    "We try to find the best features using a series of random sets. Starty by importing the data and using the random forest regressor to select features."
   ]
  },
  {
   "cell_type": "markdown",
   "metadata": {},
   "source": [
    "#Make a reduced set\n",
    "Make slimmed down training and test set. Try to get over .5 R-squared."
   ]
  },
  {
   "cell_type": "code",
   "execution_count": 10,
   "metadata": {
    "collapsed": false
   },
   "outputs": [
    {
     "name": "stdout",
     "output_type": "stream",
     "text": [
      "R^2 selected train linear score: 0.85 # bogus\n",
      "R^2 selected test linear score: 0.58\n"
     ]
    }
   ],
   "source": [
    "# TO THE STUDENT:\n",
    "# Change this to use different top features\n",
    "\n",
    "FEATURE_COUNT = 13\n",
    "\n",
    "# USE good features to train next model\n",
    "X_selected_train = []\n",
    "X_selected_test = []\n",
    "\n",
    "for line in X_train_scaled:\n",
    "    x_out = []\n",
    "    feature_num = 0\n",
    "    for feature_name in all_features:\n",
    "        if feature_name in good_features[:FEATURE_COUNT]:\n",
    "            x_out.append(line[feature_num])\n",
    "        feature_num += 1\n",
    "    X_selected_train.append(x_out)\n",
    "\n",
    "for line in X_test_scaled:\n",
    "    x_out = []\n",
    "    feature_num = 0\n",
    "    for feature_name in all_features:\n",
    "        if feature_name in good_features[:FEATURE_COUNT]:\n",
    "            x_out.append(line[feature_num])\n",
    "        feature_num += 1\n",
    "    X_selected_test.append(x_out)\n",
    "    clf_select = linear_model.LinearRegression()\n",
    "\n",
    "clf_select.fit (X_selected_train, y_train)\n",
    "print('R^2 selected train linear score: %.2f # bogus' % clf_select.score(X_selected_train, y_train))\n",
    "print('R^2 selected test linear score: %.2f' % clf_select.score(X_selected_test, y_test))"
   ]
  },
  {
   "cell_type": "markdown",
   "metadata": {},
   "source": [
    "#Test Scaled Data\n",
    "Test the scaled version."
   ]
  },
  {
   "cell_type": "code",
   "execution_count": 11,
   "metadata": {
    "collapsed": false
   },
   "outputs": [
    {
     "name": "stdout",
     "output_type": "stream",
     "text": [
      "R^2 test scaled linear score: 0.58\n"
     ]
    }
   ],
   "source": [
    "clf = linear_model.LinearRegression()\n",
    "\n",
    "clf.fit(X_train_scaled, y_train)\n",
    "#X_test_scaled = scaler.fit_transform(X_test)\n",
    "\n",
    "print('R^2 test scaled linear score: %.2f' % clf.score(X_test_scaled, y_test))"
   ]
  },
  {
   "cell_type": "markdown",
   "metadata": {},
   "source": [
    "#Test Scaled and Selected Data"
   ]
  },
  {
   "cell_type": "code",
   "execution_count": 12,
   "metadata": {
    "collapsed": false
   },
   "outputs": [
    {
     "name": "stdout",
     "output_type": "stream",
     "text": [
      "R^2 test select scaled linear score: 0.58\n"
     ]
    }
   ],
   "source": [
    "X_train_select_scaled = scaler.fit_transform(X_selected_train)\n",
    "X_test_select_scaled = scaler.fit_transform(X_selected_test)\n",
    "\n",
    "\n",
    "clf_select_scaled = linear_model.LinearRegression()\n",
    "clf_select_scaled.fit(X_train_select_scaled, y_train)\n",
    "print('R^2 test select scaled linear score: %.2f' % clf_select_scaled.score(X_test_select_scaled, y_test))"
   ]
  },
  {
   "cell_type": "markdown",
   "metadata": {},
   "source": [
    "# Ridiculously Easy Alert"
   ]
  },
  {
   "cell_type": "markdown",
   "metadata": {},
   "source": [
    "# Random Forest\n",
    "The random forest optimizes the results under the hood. This is the easy way. This is an overestimate of the R^2 again. This really is random. Try play twice and watch the score."
   ]
  },
  {
   "cell_type": "code",
   "execution_count": 14,
   "metadata": {
    "collapsed": false
   },
   "outputs": [
    {
     "name": "stdout",
     "output_type": "stream",
     "text": [
      "R^2 score: 0.61\n"
     ]
    }
   ],
   "source": [
    "from sklearn.ensemble import RandomForestRegressor\n",
    "rf_first = RandomForestRegressor(n_estimators=20, max_depth=4)\n",
    "rf_first.fit(X_train, y_train)\n",
    "print('R^2 score: %.2f' % rf_first.score(X_test, y_test))"
   ]
  },
  {
   "cell_type": "markdown",
   "metadata": {},
   "source": [
    "#Ridge Regression\n",
    "TO THE STUDENT, BROKEN. Fix me"
   ]
  },
  {
   "cell_type": "code",
   "execution_count": 15,
   "metadata": {
    "collapsed": false
   },
   "outputs": [
    {
     "name": "stdout",
     "output_type": "stream",
     "text": [
      "R^2 score: -1.42\n"
     ]
    }
   ],
   "source": [
    "ridge = linear_model.Ridge (alpha = .5)\n",
    "ridge.fit(X_train, y_train) \n",
    "print('R^2 score: %.2f' % ridge.score(X_test, y_test))"
   ]
  },
  {
   "cell_type": "markdown",
   "metadata": {},
   "source": [
    "#Lasso"
   ]
  },
  {
   "cell_type": "code",
   "execution_count": 16,
   "metadata": {
    "collapsed": false
   },
   "outputs": [
    {
     "name": "stdout",
     "output_type": "stream",
     "text": [
      "R^2 score: 0.20\n"
     ]
    }
   ],
   "source": [
    "lasso = linear_model.Lasso(alpha = 0.1)\n",
    "lasso.fit(X_train, y_train) \n",
    "print('R^2 score: %.2f' % lasso.score(X_test, y_test))"
   ]
  },
  {
   "cell_type": "code",
   "execution_count": null,
   "metadata": {
    "collapsed": true
   },
   "outputs": [],
   "source": []
  }
 ],
 "metadata": {
  "kernelspec": {
   "display_name": "Python 2",
   "language": "python",
   "name": "python2"
  },
  "language_info": {
   "codemirror_mode": {
    "name": "ipython",
    "version": 2
   },
   "file_extension": ".py",
   "mimetype": "text/x-python",
   "name": "python",
   "nbconvert_exporter": "python",
   "pygments_lexer": "ipython2",
   "version": "2.7.6"
  }
 },
 "nbformat": 4,
 "nbformat_minor": 0
}
