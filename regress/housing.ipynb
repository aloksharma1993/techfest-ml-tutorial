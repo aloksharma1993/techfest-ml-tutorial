{
 "cells": [
  {
   "cell_type": "markdown",
   "metadata": {},
   "source": [
    "# Boston Housing data\n",
    "\n",
    "\n",
    "This part of the tutorial loads data about Boston housing and median house prices. The goal is to predict the housing price in each district given a series of features.\n",
    "\n",
    "Features include race, air quality and plot size."
   ]
  },
  {
   "cell_type": "markdown",
   "metadata": {
    "collapsed": true
   },
   "source": [
    "<table><tr><td><img src=\"boston_roads.png\" width=\"70%\" height=\"70%\"></td><td><img src=\"colorful_row_houses.jpg\" width=\"70%\" height=\"70%\"></td></tr>\n",
    "</table>"
   ]
  },
  {
   "cell_type": "code",
   "execution_count": 47,
   "metadata": {
    "collapsed": false
   },
   "outputs": [],
   "source": [
    "# Load the data\n",
    "import warnings\n",
    "from sklearn.datasets import load_boston\n",
    "\n",
    "TRAIN_SIZE = 100\n",
    "\n",
    "warnings.filterwarnings('ignore')\n",
    "\n",
    "boston = load_boston()\n",
    "X_train = boston[\"data\"][:TRAIN_SIZE]\n",
    "y_train = boston[\"target\"][:TRAIN_SIZE]\n",
    "X_test = boston[\"data\"][TRAIN_SIZE:]\n",
    "y_test = boston[\"target\"][TRAIN_SIZE:]\n",
    "\n",
    "all_features = boston[\"feature_names\"]\n"
   ]
  },
  {
   "cell_type": "markdown",
   "metadata": {},
   "source": [
    "Next let's see some of the data. X is a matrix of all feature values. y is a vector of target data."
   ]
  },
  {
   "cell_type": "code",
   "execution_count": 53,
   "metadata": {
    "collapsed": false
   },
   "outputs": [
    {
     "name": "stdout",
     "output_type": "stream",
     "text": [
      "['CRIM' 'ZN' 'INDUS' 'CHAS' 'NOX' 'RM' 'AGE' 'DIS' 'RAD' 'TAX' 'PTRATIO'\n",
      " 'B' 'LSTAT' 'MEDV']\n",
      "y training size is 100\n",
      "X training size is 13 x 100\n",
      "y training set is in $k [ 24.   21.6  34.7  33.4  36.2]\n"
     ]
    }
   ],
   "source": [
    "all_features = boston[\"feature_names\"]\n",
    "print str(all_features)\n",
    "print 'y training size is %d' % len(y_train)\n",
    "print 'X training size is %d x %d' % (len(X_train[0]), len(X_train))\n",
    "print 'y training set is in $k %s' % str(y_train[:5])"
   ]
  },
  {
   "cell_type": "markdown",
   "metadata": {},
   "source": [
    "# Linear regression\n",
    "\n",
    "Let's try a couple of models. First a linear regression based on least squares. The variance should be close to 1 if the model is good. Don't be fooled by the R^2 on the training set. It's a line that does not describe the reality of taking on a real set of new random data."
   ]
  },
  {
   "cell_type": "code",
   "execution_count": 11,
   "metadata": {
    "collapsed": false
   },
   "outputs": [
    {
     "name": "stdout",
     "output_type": "stream",
     "text": [
      "R^2 train is 0.880705 # bogus\n",
      "R^2 test is -12.723166\n"
     ]
    }
   ],
   "source": [
    "from sklearn import linear_model\n",
    "from sklearn.metrics import r2_score\n",
    "\n",
    "clf_linear_simple = linear_model.LinearRegression()\n",
    "\n",
    "clf_linear_simple.fit (X_train, y_train)\n",
    "linear_r2 = r2_score(y_train, clf_linear_simple.predict(X_train))\n",
    "print 'R^2 train is %f # bogus' % linear_r2\n",
    "linear_test_r2 = r2_score(y_test, clf_linear_simple.predict(X_test))\n",
    "print 'R^2 test is %f' % linear_test_r2\n"
   ]
  },
  {
   "cell_type": "markdown",
   "metadata": {},
   "source": [
    "#Plot Data\n",
    "Fet a feel for plotting data.\n",
    "FOR THE STUDENT:\n",
    "Increase FEATURES_TO_SHOW to see all 13 features."
   ]
  },
  {
   "cell_type": "code",
   "execution_count": 97,
   "metadata": {
    "collapsed": false
   },
   "outputs": [
    {
     "name": "stdout",
     "output_type": "stream",
     "text": [
      "Feature: CRIM\n"
     ]
    },
    {
     "data": {
      "image/png": "[encoded data removed]",
      "text/plain": [
       "<matplotlib.figure.Figure at 0x10d48c990>"
      ]
     },
     "metadata": {},
     "output_type": "display_data"
    },
    {
     "name": "stdout",
     "output_type": "stream",
     "text": [
      "Feature: ZN\n"
     ]
    },
    {
     "data": {
      "image/png": "[encoded data removed]",
      "text/plain": [
       "<matplotlib.figure.Figure at 0x109c7a750>"
      ]
     },
     "metadata": {},
     "output_type": "display_data"
    }
   ],
   "source": [
    "# LET's plot it\n",
    "import matplotlib.pyplot as plt\n",
    "# ALLOW inline graphs\n",
    "%matplotlib inline\n",
    "\n",
    "# FOR THE student:\n",
    "# Look at more graphs of features and find those that look to be the best\n",
    "# fits\n",
    "\n",
    "FEATURES_TO_SHOW = 2\n",
    "\n",
    "for feature_name in all_features[:FEATURES_TO_SHOW]:\n",
    "    print 'Feature: %s' % feature_name\n",
    "    #idx = list(all_features).index('LSTAT')\n",
    "    idx = list(all_features).index(feature_name)\n",
    "    plt.scatter([x[idx] for x in X_test], y_test,  color='black')\n",
    "\n",
    "    plt.xticks(())\n",
    "    plt.yticks(())\n",
    "\n",
    "    plt.show()\n",
    "\n",
    "\n",
    "#housing.main()"
   ]
  },
  {
   "cell_type": "markdown",
   "metadata": {},
   "source": [
    "##Feature Selection\n",
    "We try to find the best features using a series of random sets. Starty by importing the data and using the random forest regressor to select features."
   ]
  },
  {
   "cell_type": "code",
   "execution_count": 18,
   "metadata": {
    "collapsed": false
   },
   "outputs": [],
   "source": [
    "from collections import defaultdict\n",
    "from sklearn.cross_validation import ShuffleSplit\n",
    "import numpy as np\n",
    "\n",
    "\n",
    "X = boston[\"data\"]\n",
    "Y = boston[\"target\"]\n",
    " \n",
    "rf_cross = RandomForestRegressor()\n",
    "scores = defaultdict(list)"
   ]
  },
  {
   "cell_type": "markdown",
   "metadata": {},
   "source": [
    "#Cross Validation\n",
    "Cross validation is used to test models and features against a different split of the data each time. ShuffleSplit splits the data into different sets for training and test."
   ]
  },
  {
   "cell_type": "code",
   "execution_count": 22,
   "metadata": {
    "collapsed": false
   },
   "outputs": [],
   "source": [
    "#crossvalidate the scores on a number of different random splits of the data\n",
    "for train_idx, test_idx in ShuffleSplit(len(X), 100, .3):\n",
    "    X_train_shuf, X_test_shuf = X[train_idx], X[test_idx]\n",
    "    Y_train_shuf, Y_test_shuf = Y[train_idx], Y[test_idx]\n",
    "    r = rf_cross.fit(X_train_shuf, Y_train_shuf)\n",
    "\n",
    "    acc = r2_score(Y_test_shuf, rf_cross.predict(X_test_shuf))\n",
    "    for i in range(X.shape[1]):\n",
    "        X_t = X_test_shuf.copy()\n",
    "        np.random.shuffle(X_t[:, i])\n",
    "        shuff_acc = r2_score(Y_test_shuf, rf_cross.predict(X_t))\n",
    "\n",
    "        scores[all_features[i]].append((acc-shuff_acc)/acc)"
   ]
  },
  {
   "cell_type": "markdown",
   "metadata": {},
   "source": [
    "#Print Top Features with Scores"
   ]
  },
  {
   "cell_type": "code",
   "execution_count": 25,
   "metadata": {
    "collapsed": false
   },
   "outputs": [
    {
     "name": "stdout",
     "output_type": "stream",
     "text": [
      "Features sorted by their score:\n",
      "[(0.7849, 'LSTAT'), (0.5417, 'RM'), (0.0828, 'DIS'), (0.0443, 'NOX'), (0.0418, 'CRIM'), (0.0225, 'PTRATIO'), (0.0168, 'TAX'), (0.0109, 'AGE'), (0.0063, 'B'), (0.0058, 'INDUS'), (0.0042, 'RAD'), (0.0002, 'CHAS'), (-0.0001, 'ZN')]\n"
     ]
    }
   ],
   "source": [
    "print \"Features sorted by their score:\"\n",
    "sorted_features = sorted([(round(np.mean(score), 4), feat) for\n",
    "              feat, score in scores.items()], reverse=True)\n",
    "print sorted_features\n",
    "good_features = [x[1] for x in sorted_features]\n"
   ]
  },
  {
   "cell_type": "markdown",
   "metadata": {},
   "source": [
    "#Make a reduced set\n",
    "Make slimmed down training and test set. Try to get over .5 R-squared."
   ]
  },
  {
   "cell_type": "code",
   "execution_count": 44,
   "metadata": {
    "collapsed": false
   },
   "outputs": [
    {
     "name": "stdout",
     "output_type": "stream",
     "text": [
      "R^2 selected train linear score: 0.82 # bogus\n",
      "R^2 selected test linear score: 0.52\n"
     ]
    }
   ],
   "source": [
    "# TO THE STUDENT:\n",
    "# Change this to use different top features\n",
    "\n",
    "FEATURE_COUNT = 4\n",
    "\n",
    "\n",
    "# USE good features to train next model\n",
    "X_selected_train = []\n",
    "X_selected_test = []\n",
    "\n",
    "for line in X_train:\n",
    "    x_out = []\n",
    "    feature_num = 0\n",
    "    for feature_name in all_features:\n",
    "        if feature_name in good_features[:FEATURE_COUNT]:\n",
    "            x_out.append(line[feature_num])\n",
    "        feature_num += 1\n",
    "    X_selected_train.append(x_out)\n",
    "\n",
    "for line in X_test:\n",
    "    x_out = []\n",
    "    feature_num = 0\n",
    "    for feature_name in all_features:\n",
    "        if feature_name in good_features[:FEATURE_COUNT]:\n",
    "            x_out.append(line[feature_num])\n",
    "        feature_num += 1\n",
    "    X_selected_test.append(x_out)\n",
    "    clf_select = linear_model.LinearRegression()\n",
    "\n",
    "clf_select.fit (X_selected_train, y_train)\n",
    "print('R^2 selected train linear score: %.2f # bogus' % clf_select.score(X_selected_train, y_train))\n",
    "print('R^2 selected test linear score: %.2f' % clf_select.score(X_selected_test, y_test))"
   ]
  },
  {
   "cell_type": "markdown",
   "metadata": {},
   "source": [
    "# Feature Scaling\n",
    "Feature scaling helps prevent some features from appearing to dominate a training set."
   ]
  },
  {
   "cell_type": "code",
   "execution_count": 39,
   "metadata": {
    "collapsed": true
   },
   "outputs": [],
   "source": [
    "# SCALE it\n",
    "from sklearn.preprocessing import StandardScaler\n",
    "scaler = StandardScaler()\n",
    "X_train_scaled = scaler.fit_transform(X_train)"
   ]
  },
  {
   "cell_type": "markdown",
   "metadata": {},
   "source": [
    "#Test Scaling\n",
    "Test the scaled version."
   ]
  },
  {
   "cell_type": "code",
   "execution_count": 41,
   "metadata": {
    "collapsed": false
   },
   "outputs": [
    {
     "name": "stdout",
     "output_type": "stream",
     "text": [
      "R^2 test scaled linear score: 0.50\n"
     ]
    }
   ],
   "source": [
    "clf = linear_model.LinearRegression()\n",
    "\n",
    "clf.fit(X_train_scaled, y_train)\n",
    "X_test_scaled = scaler.fit_transform(X_test)\n",
    "\n",
    "print('R^2 test scaled linear score: %.2f' % clf.score(X_test_scaled, y_test))"
   ]
  },
  {
   "cell_type": "markdown",
   "metadata": {},
   "source": [
    "#Test Scaled and Selected Data"
   ]
  },
  {
   "cell_type": "code",
   "execution_count": 43,
   "metadata": {
    "collapsed": false
   },
   "outputs": [
    {
     "name": "stdout",
     "output_type": "stream",
     "text": [
      "R^2 test select scaled linear score: 0.55\n"
     ]
    }
   ],
   "source": [
    "X_train_select_scaled = scaler.fit_transform(X_selected_train)\n",
    "X_test_select_scaled = scaler.fit_transform(X_selected_test)\n",
    "\n",
    "\n",
    "clf_select_scaled = linear_model.LinearRegression()\n",
    "clf_select_scaled.fit(X_train_select_scaled, y_train)\n",
    "print('R^2 test select scaled linear score: %.2f' % clf_select_scaled.score(X_test_select_scaled, y_test))"
   ]
  },
  {
   "cell_type": "markdown",
   "metadata": {},
   "source": [
    "# Ridiculously Easy Alert"
   ]
  },
  {
   "cell_type": "markdown",
   "metadata": {},
   "source": [
    "# Random Forest\n",
    "The random forest optimizes the results under the hood. This is the easy way. This is an overestimate of the R^2 again. This really is random. Try play twice and watch the score."
   ]
  },
  {
   "cell_type": "code",
   "execution_count": 1,
   "metadata": {
    "collapsed": false
   },
   "outputs": [
    {
     "ename": "NameError",
     "evalue": "name 'X_train' is not defined",
     "output_type": "error",
     "traceback": [
      "\u001b[0;31m---------------------------------------------------------------------------\u001b[0m",
      "\u001b[0;31mNameError\u001b[0m                                 Traceback (most recent call last)",
      "\u001b[0;32m<ipython-input-1-4b8f9867e09d>\u001b[0m in \u001b[0;36m<module>\u001b[0;34m()\u001b[0m\n\u001b[1;32m      1\u001b[0m \u001b[0;32mfrom\u001b[0m \u001b[0msklearn\u001b[0m\u001b[0;34m.\u001b[0m\u001b[0mensemble\u001b[0m \u001b[0;32mimport\u001b[0m \u001b[0mRandomForestRegressor\u001b[0m\u001b[0;34m\u001b[0m\u001b[0m\n\u001b[1;32m      2\u001b[0m \u001b[0mrf_first\u001b[0m \u001b[0;34m=\u001b[0m \u001b[0mRandomForestRegressor\u001b[0m\u001b[0;34m(\u001b[0m\u001b[0mn_estimators\u001b[0m\u001b[0;34m=\u001b[0m\u001b[0;36m20\u001b[0m\u001b[0;34m,\u001b[0m \u001b[0mmax_depth\u001b[0m\u001b[0;34m=\u001b[0m\u001b[0;36m4\u001b[0m\u001b[0;34m)\u001b[0m\u001b[0;34m\u001b[0m\u001b[0m\n\u001b[0;32m----> 3\u001b[0;31m \u001b[0mrf_first\u001b[0m\u001b[0;34m.\u001b[0m\u001b[0mfit\u001b[0m\u001b[0;34m(\u001b[0m\u001b[0mX_train\u001b[0m\u001b[0;34m,\u001b[0m \u001b[0my_train\u001b[0m\u001b[0;34m)\u001b[0m\u001b[0;34m\u001b[0m\u001b[0m\n\u001b[0m\u001b[1;32m      4\u001b[0m \u001b[0mlinear_r2\u001b[0m \u001b[0;34m=\u001b[0m \u001b[0mr2_score\u001b[0m\u001b[0;34m(\u001b[0m\u001b[0my_train\u001b[0m\u001b[0;34m,\u001b[0m \u001b[0mrf_first\u001b[0m\u001b[0;34m.\u001b[0m\u001b[0mpredict\u001b[0m\u001b[0;34m(\u001b[0m\u001b[0mX_train\u001b[0m\u001b[0;34m)\u001b[0m\u001b[0;34m)\u001b[0m\u001b[0;34m\u001b[0m\u001b[0m\n\u001b[1;32m      5\u001b[0m \u001b[0;32mprint\u001b[0m\u001b[0;34m(\u001b[0m\u001b[0;34m'R^2 score: %.2f'\u001b[0m \u001b[0;34m%\u001b[0m \u001b[0mrf_first\u001b[0m\u001b[0;34m.\u001b[0m\u001b[0mscore\u001b[0m\u001b[0;34m(\u001b[0m\u001b[0mX_test\u001b[0m\u001b[0;34m,\u001b[0m \u001b[0my_test\u001b[0m\u001b[0;34m)\u001b[0m\u001b[0;34m)\u001b[0m\u001b[0;34m\u001b[0m\u001b[0m\n",
      "\u001b[0;31mNameError\u001b[0m: name 'X_train' is not defined"
     ]
    }
   ],
   "source": [
    "from sklearn.ensemble import RandomForestRegressor\n",
    "rf_first = RandomForestRegressor(n_estimators=20, max_depth=4)\n",
    "rf_first.fit(X_train, y_train)\n",
    "linear_r2 = r2_score(y_train, rf_first.predict(X_train))\n",
    "print('R^2 score: %.2f' % rf_first.score(X_test, y_test))"
   ]
  },
  {
   "cell_type": "markdown",
   "metadata": {},
   "source": [
    "#Appendix\n",
    "What do these features mean?"
   ]
  },
  {
   "cell_type": "markdown",
   "metadata": {},
   "source": [
    "1. CRIM: per capita crime rate by town\n",
    "2. ZN: proportion of residential land zoned for lots over 25,000 sq.ft.\n",
    "3. INDUS: proportion of non-retail business acres per town\n",
    "4. CHAS: Charles River dummy variable (= 1 if tract bounds river; 0 otherwise)\n",
    "5. NOX: nitric oxides concentration (parts per 10 million)\n",
    "6. RM: average number of rooms per dwelling\n",
    "7. AGE: proportion of owner-occupied units built prior to 1940\n",
    "8. DIS: weighted distances to five Boston employment centres\n",
    "9. RAD: index of accessibility to radial highways\n",
    "10. TAX: full-value property-tax rate per 10,000 dollars\n",
    "11. PTRATIO: pupil-teacher ratio by town\n",
    "12. B: 1000(Bk - 0.63)^2 where Bk is the proportion of blacks by town\n",
    "13. LSTAT: Percent lower status of the population\n",
    "14. MEDV: Median value of owner-occupied homes in 1000s of dollars"
   ]
  }
 ],
 "metadata": {
  "kernelspec": {
   "display_name": "Python 2",
   "language": "python",
   "name": "python2"
  },
  "language_info": {
   "codemirror_mode": {
    "name": "ipython",
    "version": 2
   },
   "file_extension": ".py",
   "mimetype": "text/x-python",
   "name": "python",
   "nbconvert_exporter": "python",
   "pygments_lexer": "ipython2",
   "version": "2.7.6"
  }
 },
 "nbformat": 4,
 "nbformat_minor": 0
}
