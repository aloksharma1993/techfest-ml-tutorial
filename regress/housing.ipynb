{
 "cells": [
  {
   "cell_type": "markdown",
   "metadata": {},
   "source": [
    "# Boston Housing data\n",
    "\n",
    "\n",
    "This part of the tutorial loads data about Boston housing and median house prices. The goal is to predict the housing price in each district given a series of features.\n",
    "\n",
    "Features include crime rate, air quality and plot size.\n",
    "\n",
    "###What you will learn\n",
    "You will learn to load a sample data set, the Boston Housing set, divide the set into training and test, create linear regression coefficients and test your work. Extra models will be shown, so you can make it ridiculously easy for yourself to create linear regression models."
   ]
  },
  {
   "cell_type": "markdown",
   "metadata": {
    "collapsed": true
   },
   "source": [
    "<table><tr><td><img src=\"boston_roads.png\" width=\"70%\" height=\"70%\"><center>Boston Roads</center></td><td><img src=\"colorful_row_houses.jpg\" width=\"70%\" height=\"70%\"><center>Typical boston houses</center></td></tr>\n",
    "</table>"
   ]
  },
  {
   "cell_type": "markdown",
   "metadata": {},
   "source": [
    "#How to learn from this tutorial\n",
    "\n",
    "* Some code examples require interaction. Look for this:\n",
    "  * **Exercises (1-5)**\n",
    "  * Change the code and press play for the cell you changed\n",
    "  * Get a feel for how to change parameters to increase or decrease accuracy\n",
    "* Some code examples do not require interaction\n",
    "  * Just read and try to understand the code\n",
    "  * If you have any questions, ask Lydia, Arsen or David\n"
   ]
  },
  {
   "cell_type": "markdown",
   "metadata": {},
   "source": [
    "#What is R-squared?\n",
    "  * R-squared is a measure of fit of a curve to the data\n",
    "  * A good R-squared is 1.0\n",
    "  * A bad R-squared is lower\n",
    "  * Try to increase R-squared in the examples"
   ]
  },
  {
   "cell_type": "markdown",
   "metadata": {},
   "source": [
    "# What is a good feature for regression?\n",
    "  * A good feature contains most of its data on or near a straight line\n",
    "  * It has many incremental changes along the vertical and horizontal axes\n",
    "  * Both positively and negatively correlated features can help the model"
   ]
  },
  {
   "cell_type": "code",
   "execution_count": 2,
   "metadata": {
    "collapsed": false
   },
   "outputs": [],
   "source": [
    "# Load the data\n",
    "import warnings\n",
    "warnings.filterwarnings('ignore')\n",
    "# load 500-example matrix\n",
    "from sklearn.datasets import load_boston\n",
    "\n",
    "# training data set size out of around 500 samples\n",
    "# complement is test set\n",
    "\n",
    "TRAIN_SIZE = 200\n",
    "\n",
    "warnings.filterwarnings('ignore')\n",
    "\n",
    "# load sample data from scikit\n",
    "boston = load_boston()\n",
    "\n",
    "# TRAINING\n",
    "\n",
    "# training features matrix, e.g. plot size\n",
    "X_train = boston[\"data\"][:TRAIN_SIZE]\n",
    "# training housing price vector\n",
    "y_train = boston[\"target\"][:TRAIN_SIZE]\n",
    "\n",
    "# TEST\n",
    "\n",
    "# test features\n",
    "X_test = boston[\"data\"][TRAIN_SIZE:]\n",
    "# test housing prices\n",
    "y_test = boston[\"target\"][TRAIN_SIZE:]\n",
    "\n",
    "all_features = boston[\"feature_names\"]\n"
   ]
  },
  {
   "cell_type": "markdown",
   "metadata": {},
   "source": [
    "#Feature Explanation\n",
    "What do these features mean? Here is an explanation of the feature names.\n",
    "<br><b>Exercise 1</b>: Which do you think will have the greatest effect?"
   ]
  },
  {
   "cell_type": "markdown",
   "metadata": {},
   "source": [
    "1. CRIM: per capita crime rate by town\n",
    "2. ZN: proportion of residential land zoned for lots over 25,000 sq.ft.\n",
    "3. INDUS: proportion of non-retail business acres per town\n",
    "4. CHAS: Charles River dummy variable (= 1 if tract bounds river; 0 otherwise)\n",
    "5. NOX: nitric oxides concentration (parts per 10 million)\n",
    "6. RM: average number of rooms per dwelling\n",
    "7. AGE: proportion of owner-occupied units built prior to 1940\n",
    "8. DIS: weighted distances to five Boston employment centres\n",
    "9. RAD: index of accessibility to radial highways\n",
    "10. TAX: full-value property-tax rate per 10,000 dollars\n",
    "11. PTRATIO: pupil-teacher ratio by town\n",
    "12. B: 1000(Bk - 0.63)^2 where Bk is the proportion of blacks by town\n",
    "13. LSTAT: Percent lower status of the population"
   ]
  },
  {
   "cell_type": "markdown",
   "metadata": {},
   "source": [
    "#Plot Data\n",
    "Get a feel for plotting data.\n",
    "<br><b>Exercise 2</b>:\n",
    "Increase `FEATURES_TO_SHOW` to see all 13 features.<br>\n",
    "<br>\n",
    "Notice with the first two features, a higher crime rate (CRIM) correlates with lower prices, while larger plot size (ZN) correlates with higher prices.\n",
    "\n",
    "<b>Exercise 3</b>:\n",
    "Look at more graphs of features and find those that look to be the best\n",
    "fits. Which features are the best?"
   ]
  },
  {
   "cell_type": "code",
   "execution_count": 3,
   "metadata": {
    "collapsed": false
   },
   "outputs": [
    {
     "name": "stdout",
     "output_type": "stream",
     "text": [
      "\n",
      "Feature: CRIM\n"
     ]
    },
    {
     "data": {
      "image/png": "[encoded data removed]",
      "text/plain": [
       "<matplotlib.figure.Figure at 0x10671af10>"
      ]
     },
     "metadata": {},
     "output_type": "display_data"
    },
    {
     "name": "stdout",
     "output_type": "stream",
     "text": [
      "y=-0.421677x+(24.415939), R^2 = 0.20\n",
      "\n",
      "Feature: ZN\n"
     ]
    },
    {
     "data": {
      "image/png": "[encoded data removed]",
      "text/plain": [
       "<matplotlib.figure.Figure at 0x106f11e50>"
      ]
     },
     "metadata": {},
     "output_type": "display_data"
    },
    {
     "name": "stdout",
     "output_type": "stream",
     "text": [
      "y=0.160753x+(20.109698), R^2 = 0.15\n"
     ]
    }
   ],
   "source": [
    "# This prints graphs for each feature\n",
    "# LET's plot it with matproltib\n",
    "import matplotlib.pyplot as plt\n",
    "# numerical code\n",
    "import numpy\n",
    "import pylab\n",
    "# statistical and other math code\n",
    "import scipy\n",
    "# ALLOW inline graphs in the ipython notebook, not popups\n",
    "%matplotlib inline\n",
    "\n",
    "\n",
    "\n",
    "FEATURES_TO_SHOW = 2 # CHANGE ME\n",
    "\n",
    "for feature_name in all_features[:FEATURES_TO_SHOW]:\n",
    "    print\n",
    "    print 'Feature: %s' % feature_name\n",
    "    # Grab index for feature\n",
    "    idx = list(all_features).index(feature_name)\n",
    "    # Use index to gather numerical data\n",
    "    x_vals = [x[idx] for x in X_test]\n",
    "    # y_test are housing values\n",
    "    plt.scatter(x_vals, y_test, color='blue')\n",
    "\n",
    "    # fit a line to the scattered data\n",
    "    z = numpy.polyfit(x_vals, y_test, 1)\n",
    "    p = numpy.poly1d(z)\n",
    "    # plot scatter plot with linear regression line\n",
    "    pylab.plot(x_vals, p(x_vals),'r-')\n",
    "    \n",
    "    \n",
    "    \n",
    "    plt.ylim([-0.05, 100.0])\n",
    "    plt.xlabel(feature_name)\n",
    "    plt.ylabel('Median ($thousands)')\n",
    "    plt.show()\n",
    "    # fit a line\n",
    "    # run linear regression separately on each feature\n",
    "    slope, intercept, r_value, p_value, std_err = scipy.stats.linregress(x_vals, y_test)\n",
    "    print \"y=%.6fx+(%.6f), R^2 = %.2f\" % (z[0], z[1], r_value**2)\n",
    "\n",
    "\n",
    "# LOOK at r-squared. A larger value is better, and r-squared = 1 is the best fit."
   ]
  },
  {
   "cell_type": "markdown",
   "metadata": {},
   "source": [
    "# Training Set Numbers\n",
    "Next let's see some of the training numbers. X is a matrix of all feature values. y is a vector of target data."
   ]
  },
  {
   "cell_type": "code",
   "execution_count": 4,
   "metadata": {
    "collapsed": false
   },
   "outputs": [
    {
     "name": "stdout",
     "output_type": "stream",
     "text": [
      "['CRIM' 'ZN' 'INDUS' 'CHAS' 'NOX' 'RM' 'AGE' 'DIS' 'RAD' 'TAX' 'PTRATIO'\n",
      " 'B' 'LSTAT' 'MEDV']\n",
      "y training size is 200\n",
      "X training size is 13 x 200\n",
      "y training set is in $thousands [ 24.   21.6  34.7  33.4  36.2]\n"
     ]
    }
   ],
   "source": [
    "# This prints a summary of the 13 features and 1 target value\n",
    "all_features = boston[\"feature_names\"]\n",
    "print str(all_features)\n",
    "print 'y training size is %d' % len(y_train)\n",
    "print 'X training size is %d x %d' % (len(X_train[0]), len(X_train))\n",
    "print 'y training set is in $thousands %s' % str(y_train[:5])"
   ]
  },
  {
   "cell_type": "markdown",
   "metadata": {},
   "source": [
    "# Test Set Numbers\n",
    "Next let's see some of the test numbers. X is a matrix of all feature values. y is a vector of target data."
   ]
  },
  {
   "cell_type": "code",
   "execution_count": 5,
   "metadata": {
    "collapsed": false
   },
   "outputs": [
    {
     "name": "stdout",
     "output_type": "stream",
     "text": [
      "y test size is 306\n",
      "X test size is 13 x 306\n",
      "y test set is in $thousands [ 32.9  24.1  42.3  48.5  50. ]\n"
     ]
    }
   ],
   "source": [
    "# This prints a summary of the 13 features and 1 target value\n",
    "\n",
    "print 'y test size is %d' % len(y_test)\n",
    "print 'X test size is %d x %d' % (len(X_test[0]), len(X_test))\n",
    "print 'y test set is in $thousands %s' % str(y_test[:5])"
   ]
  },
  {
   "cell_type": "markdown",
   "metadata": {},
   "source": [
    "# First Linear Regression\n",
    "\n",
    "Let's try a couple of models, first a linear regression based on least squares. The r-squared should be close to 1 if the model is good. Don't be fooled by the unusually high r-squared on the training set, because it will almost always be a better fit to the training set than the test set. It's a line that does not describe the reality of taking on a real set of new random data."
   ]
  },
  {
   "cell_type": "code",
   "execution_count": 6,
   "metadata": {
    "collapsed": false
   },
   "outputs": [
    {
     "name": "stdout",
     "output_type": "stream",
     "text": [
      "R^2 train is 0.847066 # bogus\n",
      "R^2 test is -2.204567 # Needs improvement\n",
      "Coefficients: [  1.21702620e+00   2.28358110e-02   4.05630994e-03   1.55045296e-02\n",
      "  -7.33657559e+00   9.01161321e+00  -3.88193998e-02  -1.13348841e+00\n",
      "   4.60084845e-01  -1.76861359e-02  -6.84160019e-01   1.86722634e-02\n",
      "  -1.86732207e-01]\n"
     ]
    }
   ],
   "source": [
    "# This prints results of a naive model that lacks scaling and feature selection\n",
    "from sklearn import linear_model\n",
    "from sklearn.metrics import r2_score\n",
    "\n",
    "clf_linear_simple = linear_model.LinearRegression()\n",
    "\n",
    "clf_linear_simple.fit (X_train, y_train)\n",
    "linear_r2 = r2_score(y_train, clf_linear_simple.predict(X_train))\n",
    "# Find the r-squared of the training set\n",
    "print 'R^2 train is %f # bogus' % linear_r2\n",
    "# This is the real score, the one you share with co-workers\n",
    "linear_test_r2 = r2_score(y_test, clf_linear_simple.predict(X_test))\n",
    "print 'R^2 test is %f # Needs improvement' % linear_test_r2\n",
    "print 'Coefficients: ' + str(clf_linear_simple.coef_)\n"
   ]
  },
  {
   "cell_type": "markdown",
   "metadata": {},
   "source": [
    "# Feature Scaling\n",
    "## Why scaling?\n",
    "<br>\n",
    "Feature scaling helps prevent some features from dominating a model. Consider that some features might be greater than 10,000 and others less than 1. Without feature scaling, large-value features can dominate and beat out other smaller, but still more accurate, features."
   ]
  },
  {
   "cell_type": "code",
   "execution_count": 7,
   "metadata": {
    "collapsed": true
   },
   "outputs": [],
   "source": [
    "# This scales the feature (X) data\n",
    "# SCALE it\n",
    "from sklearn.preprocessing import StandardScaler\n",
    "scaler = StandardScaler()\n",
    "# scale training set\n",
    "X_train_scaled = scaler.fit_transform(X_train)\n",
    "# scale test set\n",
    "X_test_scaled = scaler.fit_transform(X_test)\n",
    "# No need to scale y target set"
   ]
  },
  {
   "cell_type": "markdown",
   "metadata": {},
   "source": [
    "#Rank Features\n",
    "Here we want to order the features by r-squared value. We must rank features to discard the ones that do not lead to a better model. Adding random data into the model can create inaccurate models."
   ]
  },
  {
   "cell_type": "code",
   "execution_count": 8,
   "metadata": {
    "collapsed": false,
    "scrolled": true
   },
   "outputs": [
    {
     "name": "stdout",
     "output_type": "stream",
     "text": [
      "Sorted features: [('RM', 0.73894619361181768), ('LSTAT', 0.52769518464243903), ('PTRATIO', 0.13342654496256567), ('AGE', 0.12980144789844669), ('NOX', 0.12410490220550857), ('INDUS', 0.11792867607631566), ('ZN', 0.10376321333031296), ('TAX', 0.054956412833148879), ('CRIM', 0.05419383650313047), ('B', 0.053449401983043113), ('RAD', 0.038413143693064977), ('DIS', 0.035549151338871841), ('CHAS', 0.0077014608973463719)]\n",
      "Good features: ['RM', 'LSTAT', 'PTRATIO', 'AGE', 'NOX', 'INDUS', 'ZN', 'TAX', 'CRIM', 'B', 'RAD', 'DIS', 'CHAS']\n"
     ]
    }
   ],
   "source": [
    "# This ranks the features in order of importance\n",
    "# Higher score is better\n",
    "import operator\n",
    "# dict for saving r-squared values\n",
    "r2_values = {}\n",
    "# Use all features but housing price\n",
    "for feature_name in all_features[:-1]:\n",
    "    # index of feature\n",
    "    idx = list(all_features).index(feature_name)\n",
    "    # Find r-value of feature\n",
    "    x_vals = [x[idx] for x in X_train_scaled]\n",
    "    slope, intercept, r_value, p_value, std_err = scipy.stats.linregress(x_vals, y_train)\n",
    "    r2_values[feature_name] = r_value ** 2\n",
    "# Sort using numerical field\n",
    "sorted_features = sorted(r2_values.items(), key=operator.itemgetter(1), reverse=True)\n",
    "print 'Sorted features: ' + str(sorted_features)\n",
    "# Print good features, best to worse\n",
    "good_features = [x[0] for x in sorted_features]\n",
    "print 'Good features: ' + str(good_features)"
   ]
  },
  {
   "cell_type": "markdown",
   "metadata": {},
   "source": [
    "#Feature Selection\n",
    "We try to find the best features using a series of random sets. Start by importing the data and using the random forest regressor to select features."
   ]
  },
  {
   "cell_type": "markdown",
   "metadata": {},
   "source": [
    "#Make a reduced set\n",
    "Make slimmed down training and test set of the best features. Try to get a higher r-squared if possible.\n",
    "\n",
    "**Exercise 4**:\n",
    "Change `FEATURE_COUNT` to keep only the top features. Notice how the R-squared value changes."
   ]
  },
  {
   "cell_type": "code",
   "execution_count": 9,
   "metadata": {
    "collapsed": false
   },
   "outputs": [
    {
     "name": "stdout",
     "output_type": "stream",
     "text": [
      "R^2 selected train linear score: 0.85 # bogus\n",
      "R^2 selected test linear score: 0.58\n"
     ]
    }
   ],
   "source": [
    "\n",
    "# Change this to use different top features\n",
    "FEATURE_COUNT = 13 # CHANGE ME\n",
    "\n",
    "# USE good features to train next model\n",
    "X_selected_train = []\n",
    "X_selected_test = []\n",
    "\n",
    "# TRAINING SET\n",
    "\n",
    "for line in X_train_scaled:\n",
    "    x_out = []\n",
    "    feature_num = 0\n",
    "    for feature_name in all_features:\n",
    "        if feature_name in good_features[:FEATURE_COUNT]:\n",
    "            # Append only top features\n",
    "            x_out.append(line[feature_num])\n",
    "        feature_num += 1\n",
    "    X_selected_train.append(x_out)\n",
    "\n",
    "# TEST SET\n",
    "\n",
    "for line in X_test_scaled:\n",
    "    x_out = []\n",
    "    feature_num = 0\n",
    "    for feature_name in all_features:\n",
    "        if feature_name in good_features[:FEATURE_COUNT]:\n",
    "            # Append only top features\n",
    "            x_out.append(line[feature_num])\n",
    "        feature_num += 1\n",
    "    X_selected_test.append(x_out)\n",
    "    clf_select = linear_model.LinearRegression()\n",
    "\n",
    "clf_select.fit (X_selected_train, y_train)\n",
    "print('R^2 selected train linear score: %.2f # bogus' % clf_select.score(X_selected_train, y_train))\n",
    "print('R^2 selected test linear score: %.2f' % clf_select.score(X_selected_test, y_test))"
   ]
  },
  {
   "cell_type": "markdown",
   "metadata": {},
   "source": [
    "#Test Scaled Data\n",
    "Test the scaled version."
   ]
  },
  {
   "cell_type": "code",
   "execution_count": 10,
   "metadata": {
    "collapsed": false
   },
   "outputs": [
    {
     "name": "stdout",
     "output_type": "stream",
     "text": [
      "R^2 test scaled linear score: 0.58\n"
     ]
    }
   ],
   "source": [
    "# This tests the scaled features\n",
    "clf = linear_model.LinearRegression()\n",
    "\n",
    "clf.fit(X_train_scaled, y_train)\n",
    "\n",
    "print('R^2 test scaled linear score: %.2f' % clf.score(X_test_scaled, y_test))"
   ]
  },
  {
   "cell_type": "markdown",
   "metadata": {},
   "source": [
    "#Test Scaled and Selected Data"
   ]
  },
  {
   "cell_type": "code",
   "execution_count": 11,
   "metadata": {
    "collapsed": false
   },
   "outputs": [
    {
     "name": "stdout",
     "output_type": "stream",
     "text": [
      "R^2 test select scaled linear score: 0.58\n"
     ]
    }
   ],
   "source": [
    "# This tests the scaled and selected features\n",
    "X_train_select_scaled = scaler.fit_transform(X_selected_train)\n",
    "X_test_select_scaled = scaler.fit_transform(X_selected_test)\n",
    "\n",
    "\n",
    "clf_select_scaled = linear_model.LinearRegression()\n",
    "clf_select_scaled.fit(X_train_select_scaled, y_train)\n",
    "print('R^2 test select scaled linear score: %.2f' % clf_select_scaled.score(X_test_select_scaled, y_test))"
   ]
  },
  {
   "cell_type": "markdown",
   "metadata": {},
   "source": [
    "# Trying Other Models\n",
    "One great feature of Scikit-learn is to offer a low-friction way to try several model types with the same data to find one that works well for your needs. Here, we take a random forest regressor, and will tweak it to improve the R-squared value."
   ]
  },
  {
   "cell_type": "markdown",
   "metadata": {},
   "source": [
    "## Random Forest\n",
    "A random forest regressor creates decision trees and attempts randomly to find a tree where the housing price is estimated accurately using various decisions. One decision might be is ZN greater than 40 and lower than 60? If so, the housing price should be &dollar;30,000.<br><br>The random forest optimizes the results under the hood. This is the easy way. This really is random. Press play twice for the next code cell and watch the score change. <br>\n",
    "<table><tr><td><img src=\"regressor.png\" width=\"60%\"><br><center>Curve fitting with a random forest regressor</center></td></tr></table>"
   ]
  },
  {
   "cell_type": "markdown",
   "metadata": {},
   "source": [
    "**Exercise 5**:\n",
    "Change the number of estimators and max_depth to improve the R-squared score."
   ]
  },
  {
   "cell_type": "code",
   "execution_count": 12,
   "metadata": {
    "collapsed": false
   },
   "outputs": [
    {
     "name": "stdout",
     "output_type": "stream",
     "text": [
      "R^2 score: 0.62\n"
     ]
    }
   ],
   "source": [
    "# This shows the use of a random forest\n",
    "\n",
    "from sklearn.ensemble import RandomForestRegressor\n",
    "rf_first = RandomForestRegressor(n_estimators=20, max_depth=4)\n",
    "rf_first.fit(X_train, y_train)\n",
    "print('R^2 score: %.2f' % rf_first.score(X_test, y_test))"
   ]
  }
 ],
 "metadata": {
  "kernelspec": {
   "display_name": "Python 2",
   "language": "python",
   "name": "python2"
  },
  "language_info": {
   "codemirror_mode": {
    "name": "ipython",
    "version": 2
   },
   "file_extension": ".py",
   "mimetype": "text/x-python",
   "name": "python",
   "nbconvert_exporter": "python",
   "pygments_lexer": "ipython2",
   "version": "2.7.6"
  }
 },
 "nbformat": 4,
 "nbformat_minor": 0
}
